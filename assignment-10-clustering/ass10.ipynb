{
 "cells": [
  {
   "cell_type": "markdown",
   "metadata": {},
   "source": [
    "## General"
   ]
  },
  {
   "cell_type": "code",
   "execution_count": 299,
   "metadata": {},
   "outputs": [],
   "source": [
    "# Import libraries\n",
    "import string\n",
    "import random\n",
    "import numpy as np\n",
    "import networkx as nx\n",
    "from numpy import linalg as LA\n",
    "import matplotlib.pyplot as plt"
   ]
  },
  {
   "cell_type": "markdown",
   "metadata": {},
   "source": [
    "## Load Map"
   ]
  },
  {
   "cell_type": "code",
   "execution_count": 300,
   "metadata": {},
   "outputs": [],
   "source": [
    "# Load map\n",
    "map_ = np.loadtxt(\"simple-map-dungeon.txt\").astype(int)"
   ]
  },
  {
   "cell_type": "markdown",
   "metadata": {},
   "source": [
    "## Graph Creation (NetworkX)"
   ]
  },
  {
   "cell_type": "code",
   "execution_count": 301,
   "metadata": {},
   "outputs": [],
   "source": [
    "# Create graph instance\n",
    "G = nx.Graph()\n",
    "\n",
    "# Populate graph by creating\n",
    "# edges between neighbours\n",
    "for y in range(map_.shape[0]):\n",
    "    for x in range(map_.shape[1]):\n",
    "        # Skip iteration if obstacle\n",
    "        if map_[y,x]:\n",
    "            continue\n",
    "        \n",
    "        # Add edge to non-obstacle element to the right\n",
    "        if y+1 < map_.shape[0] and map_[y+1,x] == 0:\n",
    "            G.add_edge((x,y),(x,y+1))\n",
    "        \n",
    "        # Add edge to non-obstacle element to the left\n",
    "        if y-1 >= 0 and  map_[y-1,x] == 0:\n",
    "            G.add_edge((x,y),(x,y-1))\n",
    "        \n",
    "        # Add edge to non-obstacle element to the bottom\n",
    "        if x+1 < map_.shape[1] and  map_[y,x+1] == 0:\n",
    "            G.add_edge((x,y),(x+1,y))\n",
    "        \n",
    "        # Add edge to non-obstacle element to the top\n",
    "        if x-1 >= 0 and  map_[y,x-1] == 0:\n",
    "            G.add_edge((x,y),(x-1,y))"
   ]
  },
  {
   "cell_type": "markdown",
   "metadata": {},
   "source": [
    "## Source-Target Distances"
   ]
  },
  {
   "cell_type": "code",
   "execution_count": 302,
   "metadata": {},
   "outputs": [],
   "source": [
    "# Compute dictionary of distances\n",
    "# between any node and any other one\n",
    "D = nx.shortest_path(G)"
   ]
  },
  {
   "cell_type": "markdown",
   "metadata": {},
   "source": [
    "## K-medoids clustering"
   ]
  },
  {
   "cell_type": "code",
   "execution_count": 307,
   "metadata": {},
   "outputs": [],
   "source": [
    "# Global variables\n",
    "K = 4\n",
    "TMAX = 100\n",
    "\n",
    "# Medoids list\n",
    "medoids = []\n",
    "\n",
    "# Pick randomly medoids\n",
    "# among the nodes of the\n",
    "# graph\n",
    "for i in range(K):\n",
    "    medoids.append(random.choice(list(G.nodes())))\n",
    "\n",
    "# Iterate over tmax\n",
    "for epoch in range(TMAX):\n",
    "    # Medoids clusters\n",
    "    k_med_clusters = [set() for _ in range(K)]\n",
    "    \n",
    "    # Populate clusters for\n",
    "    # each medoid set\n",
    "    for node in G.nodes():\n",
    "        # Temp variables to\n",
    "        # keep track of closest\n",
    "        # medoids\n",
    "        best_idx = None\n",
    "        best_medoid = None\n",
    "        min_distance = np.inf\n",
    "        \n",
    "        # Iterate over medoids\n",
    "        for idx, medoid in enumerate(medoids):\n",
    "            # Fetch shortest path distance\n",
    "            distance = len(D[node][medoid])\n",
    "            \n",
    "            # Update min distance\n",
    "            # and respective closest\n",
    "            # medoid\n",
    "            if distance < min_distance:\n",
    "                best_idx = idx\n",
    "                best_medoid = medoid\n",
    "                min_distance = distance\n",
    "        \n",
    "        # Add vertex to closest cluster\n",
    "        k_med_clusters[best_idx].add(node)\n",
    "\n",
    "    # Update medoid based on updated clusters\n",
    "    for idx, k_med_cluster in enumerate(k_med_clusters):\n",
    "        # Temp variables\n",
    "        best_medoid = None\n",
    "        min_distance = np.inf\n",
    "        \n",
    "        # Iterate over ith cluster\n",
    "        for node_j in k_med_cluster:\n",
    "            # Compute sum distance for each\n",
    "            # cluster points with respect to\n",
    "            # all other points in the cluster\n",
    "            sum_distance = sum(len(D[node_j][node_l]) for node_l in k_med_cluster)\n",
    "            \n",
    "            # Update min distance and\n",
    "            # respective best medoid\n",
    "            if sum_distance < min_distance:\n",
    "                best_medoid = node_j\n",
    "                min_dist = sum_distance\n",
    "        \n",
    "        # Update medoid\n",
    "        medoids[idx] = best_medoid  "
   ]
  },
  {
   "cell_type": "markdown",
   "metadata": {},
   "source": [
    "## K-Medoids Clustering"
   ]
  },
  {
   "cell_type": "code",
   "execution_count": 308,
   "metadata": {},
   "outputs": [
    {
     "data": {
      "image/png": "[encoded data removed]",
      "text/plain": [
       "<Figure size 288x288 with 1 Axes>"
      ]
     },
     "metadata": {
      "needs_background": "light"
     },
     "output_type": "display_data"
    }
   ],
   "source": [
    "# Medoids cluster map\n",
    "medoids_cluster = map_.copy()\n",
    "\n",
    "# Loop over map and set cluster k\n",
    "for y in range(map_.shape[0]):\n",
    "    for x in range(map_.shape[1]):\n",
    "        # Check if entry is free\n",
    "        if map_[y,x] == 0:\n",
    "            # Check which cluster it belongs to\n",
    "            for idx, k_med_cluster in enumerate(k_med_clusters):\n",
    "                if (x,y) in k_med_cluster:\n",
    "                    medoids_cluster[y, x] = idx + 1\n",
    "        else:\n",
    "            medoids_cluster[y, x] = 0\n",
    "\n",
    "plt.matshow(medoids_cluster, cmap='jet', interpolation='nearest')\n",
    "plt.show()"
   ]
  },
  {
   "cell_type": "markdown",
   "metadata": {},
   "source": [
    "## Spectral Clustering"
   ]
  },
  {
   "cell_type": "code",
   "execution_count": 221,
   "metadata": {},
   "outputs": [
    {
     "name": "stdout",
     "output_type": "stream",
     "text": [
      "Initial centroids:  [[0.03143861514397576, 0.007269924439474234, -0.011032734097554717, -0.021854151843952806], [-0.03162762794120606, -0.13120856885983886, -0.0714181036413649, 0.07685627116046613], [0.032801808753442574, 0.010234975645740732, -0.016001834484639894, -0.041069938636627855], [-0.07556976577777921, -0.07143281721006801, 0.11622814972251438, -0.05499482384707441]]\n",
      "\n",
      "\n"
     ]
    }
   ],
   "source": [
    "# Compute adjacency matrix\n",
    "A = nx.adjacency_matrix(G).todense()\n",
    "\n",
    "# Create degree matrix\n",
    "D = np.zeros((A.shape[0], A.shape[1]))\n",
    "\n",
    "# Populate degree matrix\n",
    "for y in range(A.shape[0]):\n",
    "    degree = 0\n",
    "    for x in range(A.shape[1]):\n",
    "        degree += A[y,x]\n",
    "    \n",
    "    # Update degree for node y\n",
    "    D[y, y] = degree\n",
    "\n",
    "# Compute the laplacian graph\n",
    "L = D - A\n",
    "\n",
    "# Perform EigenValue Decomposition\n",
    "w, v = LA.eigh(L)\n",
    "\n",
    "# Sort eigenvalues and eigenvectors\n",
    "sort_idx = w.argsort() \n",
    "w = w[sort_idx]\n",
    "v = v[sort_idx]\n",
    "\n",
    "# Fetch the first K eigenvectors\n",
    "v_k = v[:, 1:K+1]\n",
    "\n",
    "# Select randomly k clusters\n",
    "centroids = []\n",
    "for _ in range(K):\n",
    "    # Get random choice input\n",
    "    choice = random.choice(v_k)\n",
    "    \n",
    "    # Populate clusters\n",
    "    centroids.append(np.array(choice)[0].tolist())\n",
    "\n",
    "print(\"Initial centroids: \", centroids)\n",
    "    \n",
    "# # Populate clusters\n",
    "# centroids.append(np.array(v_k[4])[0].tolist())\n",
    "# centroids.append(np.array(v_k[50])[0].tolist())\n",
    "# centroids.append(np.array(v_k[100])[0].tolist())\n",
    "# centroids.append(np.array(v_k[250])[0].tolist())\n",
    "\n",
    "# Perform k-means on data points\n",
    "for _ in range(10):\n",
    "    # Clusters as a list of lists\n",
    "    k_mean_clusters = [[] for _ in range(K)]\n",
    "    \n",
    "    # Iterate over datapoints\n",
    "    for x in range(v_k.shape[0]):\n",
    "        # Temp variables\n",
    "        best_idx = None\n",
    "        min_distance = np.inf\n",
    "        best_centroid = None\n",
    "        \n",
    "        # Iterate over clusters\n",
    "        for idx, centroid in enumerate(centroids):\n",
    "            # Compute euclidean distance\n",
    "            # between node and centroid\n",
    "            distance = np.linalg.norm(np.array(v_k[x])[0].tolist() - np.array(centroid))\n",
    "            \n",
    "            # Get best centroid for\n",
    "            # datapoint in the spectrals\n",
    "            if  distance < min_distance:\n",
    "                best_idx = idx\n",
    "                min_distance = distance\n",
    "                best_centroid = centroid\n",
    "            \n",
    "        # Add node to respective cluster\n",
    "        k_mean_clusters[best_idx].append(np.array(v_k[x]))\n",
    "        \n",
    "    # Update centroids\n",
    "    for i, cluster in enumerate(k_mean_clusters):\n",
    "        # Temp variable\n",
    "        sum_ = np.asarray([0.0,0.0,0.0,0.0])\n",
    "        \n",
    "        # Loop over points in ith cluster\n",
    "        for point in cluster:\n",
    "            sum_ += point[0].tolist()\n",
    "        \n",
    "        # Update centroid as mean\n",
    "        centroids[i] = sum_ / len(cluster)\n",
    "\n",
    "print(\"\\n\")\n",
    "# print(\"Final centroids: \", centroids)"
   ]
  },
  {
   "cell_type": "markdown",
   "metadata": {},
   "source": [
    "## Spectral Clustering"
   ]
  },
  {
   "cell_type": "code",
   "execution_count": 222,
   "metadata": {},
   "outputs": [
    {
     "name": "stdout",
     "output_type": "stream",
     "text": [
      "[[0 0 0 0 0 0 0 0 0 0 0 0 0 0 0 0 0 0 0 0 0 0]\n",
      " [0 1 1 1 1 1 1 0 0 4 4 4 4 4 0 0 2 2 2 2 2 0]\n",
      " [0 1 1 1 1 1 1 1 4 4 4 4 4 4 0 0 2 2 2 2 2 0]\n",
      " [1 1 1 1 1 1 1 0 0 4 4 4 4 4 0 0 2 2 2 2 2 0]\n",
      " [1 1 1 1 1 1 1 0 0 4 4 4 4 4 0 0 2 2 2 2 2 0]\n",
      " [0 1 1 1 1 1 1 0 0 4 4 4 4 4 4 2 2 2 2 2 2 0]\n",
      " [0 1 1 1 1 1 1 0 0 4 4 4 4 4 0 0 2 2 2 2 2 0]\n",
      " [0 0 0 0 0 0 0 0 0 0 0 0 0 0 0 0 0 0 2 0 0 0]\n",
      " [0 0 0 0 0 0 0 0 0 0 0 0 0 0 0 0 0 0 3 0 0 0]\n",
      " [0 1 1 1 1 1 1 1 1 1 1 3 3 3 3 3 3 3 3 3 3 0]\n",
      " [0 1 1 1 1 1 1 1 1 1 1 3 3 3 3 3 3 3 3 3 3 0]\n",
      " [0 1 1 1 1 1 1 1 1 1 1 3 3 3 3 3 3 3 3 3 3 0]\n",
      " [0 1 1 1 1 1 1 1 1 1 1 3 3 3 3 3 3 3 3 3 3 0]\n",
      " [0 1 1 1 1 1 1 1 1 1 1 3 3 3 3 3 3 3 3 3 3 0]\n",
      " [0 1 1 1 1 1 1 1 1 1 1 3 3 3 3 3 3 3 3 3 3 0]\n",
      " [0 1 1 1 1 1 1 1 1 1 1 3 3 3 3 3 3 3 3 3 3 0]\n",
      " [0 1 1 1 1 1 1 1 1 1 1 3 3 3 3 3 3 3 3 3 3 0]\n",
      " [0 1 1 1 1 1 1 1 1 1 1 3 3 3 3 3 3 3 3 3 3 0]\n",
      " [0 1 1 1 1 1 1 1 1 1 1 3 3 3 3 3 3 3 3 3 3 0]\n",
      " [0 1 1 1 1 1 1 1 1 1 1 3 3 3 3 3 3 3 3 3 3 0]\n",
      " [0 1 1 1 1 1 1 1 1 1 1 3 3 3 3 3 3 3 3 3 3 0]\n",
      " [0 0 0 0 1 1 1 0 0 0 0 0 0 0 0 0 0 0 0 0 0 0]]\n"
     ]
    },
    {
     "data": {
      "image/png": "[encoded data removed]",
      "text/plain": [
       "<Figure size 288x288 with 1 Axes>"
      ]
     },
     "metadata": {
      "needs_background": "light"
     },
     "output_type": "display_data"
    }
   ],
   "source": [
    "# List of nodes\n",
    "nodes = list(G.nodes())\n",
    "\n",
    "# Copy of original map\n",
    "map_clustered = np.zeros_like(map_)\n",
    "\n",
    "# Iterate over all clusters\n",
    "for idx, k_mean_cluster in enumerate(k_mean_clusters):\n",
    "    # Iterate over all points in the cluster\n",
    "    for point in k_mean_cluster:\n",
    "        # Find where point matches\n",
    "        i, _ = np.where(np.isclose(v_k, point).all(axis=1))\n",
    "#         print(i)\n",
    "                \n",
    "        # Get corresponding i,j in map for match\n",
    "        x,y = nodes[i[0]]\n",
    "        \n",
    "#         print(y,x)\n",
    "        \n",
    "        # Update map\n",
    "        map_clustered[y,x] = idx + 1\n",
    "\n",
    "print(map_clustered)\n",
    "# print(k_mean_clusters)\n",
    "\n",
    "plt.matshow(map_clustered, cmap='jet', interpolation='nearest')\n",
    "plt.show()"
   ]
  },
  {
   "cell_type": "code",
   "execution_count": 124,
   "metadata": {},
   "outputs": [
    {
     "data": {
      "text/plain": [
       "[array([-0.02962233, -0.12702364, -0.0708686 ,  0.07187703]),\n",
       " array([-0.09837767,  0.01874823,  0.02873321, -0.01622339]),\n",
       " array([0.03541653, 0.02103087, 0.03139886, 0.0427249 ]),\n",
       " array([ 0.02955782,  0.00121351, -0.03003573, -0.05292039])]"
      ]
     },
     "execution_count": 124,
     "metadata": {},
     "output_type": "execute_result"
    }
   ],
   "source": [
    "centroids"
   ]
  },
  {
   "cell_type": "code",
   "execution_count": null,
   "metadata": {},
   "outputs": [],
   "source": []
  },
  {
   "cell_type": "code",
   "execution_count": null,
   "metadata": {},
   "outputs": [],
   "source": []
  }
 ],
 "metadata": {
  "kernelspec": {
   "display_name": "Python 3",
   "language": "python",
   "name": "python3"
  },
  "language_info": {
   "codemirror_mode": {
    "name": "ipython",
    "version": 3
   },
   "file_extension": ".py",
   "mimetype": "text/x-python",
   "name": "python",
   "nbconvert_exporter": "python",
   "pygments_lexer": "ipython3",
   "version": "3.7.2"
  }
 },
 "nbformat": 4,
 "nbformat_minor": 4
}
