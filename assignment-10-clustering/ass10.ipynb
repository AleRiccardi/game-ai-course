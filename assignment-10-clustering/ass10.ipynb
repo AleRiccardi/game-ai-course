{
 "cells": [
  {
   "cell_type": "markdown",
   "metadata": {},
   "source": [
    "## General"
   ]
  },
  {
   "cell_type": "code",
   "execution_count": 91,
   "metadata": {},
   "outputs": [],
   "source": [
    "# Import libraries\n",
    "import string\n",
    "import random\n",
    "import numpy as np\n",
    "import networkx as nx\n",
    "from numpy import linalg as LA\n",
    "import matplotlib.pyplot as plt"
   ]
  },
  {
   "cell_type": "markdown",
   "metadata": {},
   "source": [
    "## Load Map"
   ]
  },
  {
   "cell_type": "code",
   "execution_count": 26,
   "metadata": {},
   "outputs": [],
   "source": [
    "# Load map\n",
    "map_ = np.loadtxt(\"simple-map-dungeon.txt\").astype(int)"
   ]
  },
  {
   "cell_type": "markdown",
   "metadata": {},
   "source": [
    "## Graph Creation (NetworkX)"
   ]
  },
  {
   "cell_type": "code",
   "execution_count": 21,
   "metadata": {},
   "outputs": [],
   "source": [
    "# Create graph instance\n",
    "G = nx.Graph()\n",
    "\n",
    "# Populate graph by creating\n",
    "# edges between neighbours\n",
    "for y in range(map_.shape[0]):\n",
    "    for x in range(map_.shape[1]):\n",
    "        # Skip iteration if obstacle\n",
    "        if map_[y,x]:\n",
    "            continue\n",
    "        \n",
    "        # Add edge to non-obstacle element to the right\n",
    "        if y+1 < map_.shape[0] and map_[y+1,x] == 0:\n",
    "            G.add_edge((x,y),(x,y+1))\n",
    "        \n",
    "        # Add edge to non-obstacle element to the left\n",
    "        if y-1 >= 0 and  map_[y-1,x] == 0:\n",
    "            G.add_edge((x,y),(x,y-1))\n",
    "        \n",
    "        # Add edge to non-obstacle element to the bottom\n",
    "        if x+1 < map_.shape[1] and  map_[y,x+1] == 0:\n",
    "            G.add_edge((x,y),(x+1,y))\n",
    "        \n",
    "        # Add edge to non-obstacle element to the top\n",
    "        if x-1 >= 0 and  map_[y,x-1] == 0:\n",
    "            G.add_edge((x,y),(x-1,y))"
   ]
  },
  {
   "cell_type": "markdown",
   "metadata": {},
   "source": [
    "## Source-Target Distances"
   ]
  },
  {
   "cell_type": "code",
   "execution_count": 44,
   "metadata": {},
   "outputs": [],
   "source": [
    "# Compute dictionary of distances\n",
    "# between any node and any other one\n",
    "D = nx.shortest_path(G)"
   ]
  },
  {
   "cell_type": "markdown",
   "metadata": {},
   "source": [
    "## K-medoids clustering"
   ]
  },
  {
   "cell_type": "code",
   "execution_count": 59,
   "metadata": {},
   "outputs": [],
   "source": [
    "# Global variables\n",
    "K = 4\n",
    "TMAX = 50\n",
    "\n",
    "# Medoids list\n",
    "medoids = []\n",
    "\n",
    "# Pick randomly medoids\n",
    "# among the nodes of the\n",
    "# graph\n",
    "for i in range(K):\n",
    "    medoids.append(random.choice(list(G.nodes())))\n",
    "\n",
    "# Itareate over tmax\n",
    "for epoch in range(TMAX):\n",
    "    # Create a list of sets\n",
    "    # for each medoid selected\n",
    "    clusters = [set() for _ in range(K)]\n",
    "    \n",
    "    # Populate clusters for\n",
    "    # each medoid set\n",
    "    for node in G.nodes():\n",
    "        # Temp variables to\n",
    "        # keep track of closest\n",
    "        # medoids\n",
    "        min_distance = np.inf\n",
    "        closest_medoid = None\n",
    "        \n",
    "        # Iterate over medoids\n",
    "        for medoid in medoids:\n",
    "            # Fetch shortest path distance\n",
    "            distance = len(D[node][medoid])\n",
    "            \n",
    "            # Update min distance\n",
    "            # and respective closest\n",
    "            # medoid\n",
    "            if distance < min_distance:\n",
    "                min_distance = distance\n",
    "                closest_medoid = medoid\n",
    "        \n",
    "        # Add vertex to closest cluster\n",
    "        idx = medoids.index(closest_medoid)\n",
    "        clusters[idx].add(node)\n",
    "\n",
    "    # Update medoid based on updated clusters\n",
    "    for idx, clust_set in enumerate(clusters):\n",
    "        # Temp variables\n",
    "        min_distance = np.inf\n",
    "        closest_medoid = None\n",
    "        \n",
    "        # Iterate over ith cluster\n",
    "        for node_j in clust_set:\n",
    "            # Compute sum distance for each\n",
    "            # cluster points with respect to\n",
    "            # all other points in the cluster\n",
    "            sum_distance = sum(len(D[node_j][node_l]) for node_l in clust_set)\n",
    "            \n",
    "            # Update min distance and\n",
    "            # respective best medoid\n",
    "            if sum_distance < min_distance:\n",
    "                min_dist = sum_distance\n",
    "                closest_medoid = node_j\n",
    "        \n",
    "        # Update medoid\n",
    "        medoids[idx] = closest_medoid  "
   ]
  },
  {
   "cell_type": "markdown",
   "metadata": {},
   "source": [
    "## Waypoint Graph "
   ]
  },
  {
   "cell_type": "code",
   "execution_count": 141,
   "metadata": {},
   "outputs": [
    {
     "data": {
      "text/plain": [
       "array([[0, 0, 0, 0, 0, 0, 0, 0, 0, 0, 0, 0, 0, 0, 0, 0, 0, 0, 0, 0, 0, 0],\n",
       "       [0, 1, 1, 1, 1, 1, 1, 0, 0, 1, 1, 1, 2, 2, 0, 0, 2, 2, 2, 2, 2, 0],\n",
       "       [0, 1, 1, 1, 1, 1, 1, 1, 1, 1, 1, 1, 2, 2, 0, 0, 2, 2, 2, 2, 2, 0],\n",
       "       [1, 1, 1, 1, 1, 1, 1, 0, 0, 1, 1, 2, 2, 2, 0, 0, 2, 2, 2, 2, 2, 0],\n",
       "       [1, 1, 1, 1, 1, 1, 1, 0, 0, 1, 2, 2, 2, 2, 0, 0, 2, 2, 2, 2, 2, 0],\n",
       "       [0, 1, 1, 1, 1, 1, 1, 0, 0, 2, 2, 2, 2, 2, 2, 2, 2, 2, 2, 2, 2, 0],\n",
       "       [0, 1, 1, 1, 1, 1, 1, 0, 0, 2, 2, 2, 2, 2, 0, 0, 2, 2, 2, 2, 2, 0],\n",
       "       [0, 0, 0, 0, 0, 0, 0, 0, 0, 0, 0, 0, 0, 0, 0, 0, 0, 0, 2, 0, 0, 0],\n",
       "       [0, 0, 0, 0, 0, 0, 0, 0, 0, 0, 0, 0, 0, 0, 0, 0, 0, 0, 2, 0, 0, 0],\n",
       "       [0, 4, 4, 4, 4, 4, 4, 4, 4, 4, 3, 3, 3, 3, 3, 3, 2, 2, 2, 2, 2, 0],\n",
       "       [0, 4, 4, 4, 4, 4, 4, 4, 4, 4, 3, 3, 3, 3, 3, 3, 3, 2, 2, 2, 2, 0],\n",
       "       [0, 4, 4, 4, 4, 4, 4, 4, 4, 4, 3, 3, 3, 3, 3, 3, 3, 3, 2, 2, 2, 0],\n",
       "       [0, 4, 4, 4, 4, 4, 4, 4, 4, 4, 3, 3, 3, 3, 3, 3, 3, 3, 3, 3, 3, 0],\n",
       "       [0, 4, 4, 4, 4, 4, 4, 4, 4, 4, 3, 3, 3, 3, 3, 3, 3, 3, 3, 3, 3, 0],\n",
       "       [0, 4, 4, 4, 4, 4, 4, 4, 4, 4, 3, 3, 3, 3, 3, 3, 3, 3, 3, 3, 3, 0],\n",
       "       [0, 4, 4, 4, 4, 4, 4, 4, 4, 4, 3, 3, 3, 3, 3, 3, 3, 3, 3, 3, 3, 0],\n",
       "       [0, 4, 4, 4, 4, 4, 4, 4, 4, 4, 3, 3, 3, 3, 3, 3, 3, 3, 3, 3, 3, 0],\n",
       "       [0, 4, 4, 4, 4, 4, 4, 4, 4, 4, 3, 3, 3, 3, 3, 3, 3, 3, 3, 3, 3, 0],\n",
       "       [0, 4, 4, 4, 4, 4, 4, 4, 4, 4, 3, 3, 3, 3, 3, 3, 3, 3, 3, 3, 3, 0],\n",
       "       [0, 4, 4, 4, 4, 4, 4, 4, 4, 4, 3, 3, 3, 3, 3, 3, 3, 3, 3, 3, 3, 0],\n",
       "       [0, 4, 4, 4, 4, 4, 4, 4, 4, 4, 3, 3, 3, 3, 3, 3, 3, 3, 3, 3, 3, 0],\n",
       "       [0, 0, 0, 0, 4, 4, 4, 0, 0, 0, 0, 0, 0, 0, 0, 0, 0, 0, 0, 0, 0, 0]])"
      ]
     },
     "execution_count": 141,
     "metadata": {},
     "output_type": "execute_result"
    }
   ],
   "source": [
    "map_clustered = map_.copy()\n",
    "for y in range(map_.shape[0]):\n",
    "    for x in range(map_.shape[1]):\n",
    "        node = map_[y,x]\n",
    "        if node == 0:\n",
    "            for idx, clust_set in enumerate(clusters):\n",
    "                if (x,y) in clust_set:\n",
    "                    map_clustered[y, x] = idx + 1\n",
    "        else:\n",
    "            map_clustered[y, x] = 0\n",
    "map_clustered "
   ]
  },
  {
   "cell_type": "markdown",
   "metadata": {},
   "source": [
    "## Spectral Clustering"
   ]
  },
  {
   "cell_type": "code",
   "execution_count": 94,
   "metadata": {},
   "outputs": [],
   "source": [
    "# Compute adjacency matrix\n",
    "A = nx.adjacency_matrix(G).todense()\n",
    "\n",
    "# Create degree matrix\n",
    "D = np.zeros((A.shape[0], A.shape[1]))\n",
    "\n",
    "# Populate degree matrix\n",
    "for y in range(A.shape[0]):\n",
    "    degree = 0\n",
    "    for x in range(A.shape[1]):\n",
    "        degree += A[y,x]\n",
    "    \n",
    "    # Update degree for node y\n",
    "    D[y, y] = degree\n",
    "\n",
    "# Compute the laplacian graph\n",
    "L = D - A\n",
    "\n",
    "# Perform EigenValue Decomposition\n",
    "w, v = LA.eigh(L)"
   ]
  },
  {
   "cell_type": "code",
   "execution_count": 96,
   "metadata": {},
   "outputs": [
    {
     "data": {
      "text/plain": [
       "matrix([[ 5.36828127e-02, -1.14978158e-01,  9.00154573e-02, ...,\n",
       "          2.65689126e-12, -4.87964724e-13,  1.05290375e-13],\n",
       "        [ 5.36828127e-02, -1.15094983e-01,  9.05864754e-02, ...,\n",
       "         -7.58792414e-12,  1.35923412e-12, -2.89349177e-13],\n",
       "        [ 5.36828127e-02, -1.14669395e-01,  8.85331693e-02, ...,\n",
       "         -7.60035828e-12,  1.48833065e-12, -3.32379532e-13],\n",
       "        ...,\n",
       "        [ 5.36828127e-02,  3.62346349e-02,  2.40690836e-02, ...,\n",
       "         -1.01308840e-02, -6.59734268e-03, -3.93913601e-03],\n",
       "        [ 5.36828127e-02,  3.61467023e-02,  2.36887111e-02, ...,\n",
       "          1.39954499e-02,  9.78520492e-03,  6.23824652e-03],\n",
       "        [ 5.36828127e-02,  3.60443722e-02,  2.32490132e-02, ...,\n",
       "         -8.94612833e-03, -6.96779801e-03, -4.87295844e-03]])"
      ]
     },
     "execution_count": 96,
     "metadata": {},
     "output_type": "execute_result"
    }
   ],
   "source": [
    "v"
   ]
  },
  {
   "cell_type": "code",
   "execution_count": null,
   "metadata": {},
   "outputs": [],
   "source": []
  }
 ],
 "metadata": {
  "kernelspec": {
   "display_name": "Python 3",
   "language": "python",
   "name": "python3"
  },
  "language_info": {
   "codemirror_mode": {
    "name": "ipython",
    "version": 3
   },
   "file_extension": ".py",
   "mimetype": "text/x-python",
   "name": "python",
   "nbconvert_exporter": "python",
   "pygments_lexer": "ipython3",
   "version": "3.7.2"
  }
 },
 "nbformat": 4,
 "nbformat_minor": 4
}
