{
 "cells": [
  {
   "cell_type": "markdown",
   "metadata": {},
   "source": [
    "## General"
   ]
  },
  {
   "cell_type": "code",
   "execution_count": 34,
   "metadata": {},
   "outputs": [],
   "source": [
    "# Import libraries\n",
    "import sys\n",
    "import string\n",
    "import random\n",
    "import numpy as np\n",
    "import networkx as nx\n",
    "from numpy import linalg as LA\n",
    "import matplotlib.pyplot as plt\n",
    "np.set_printoptions(threshold=sys.maxsize)"
   ]
  },
  {
   "cell_type": "markdown",
   "metadata": {},
   "source": [
    "## Load Map"
   ]
  },
  {
   "cell_type": "code",
   "execution_count": 2,
   "metadata": {},
   "outputs": [],
   "source": [
    "# Load map\n",
    "map_ = np.loadtxt(\"simple-map-dungeon.txt\").astype(int)"
   ]
  },
  {
   "cell_type": "markdown",
   "metadata": {},
   "source": [
    "## Graph Creation (NetworkX)"
   ]
  },
  {
   "cell_type": "code",
   "execution_count": 3,
   "metadata": {},
   "outputs": [],
   "source": [
    "# Create graph instance\n",
    "G = nx.Graph()\n",
    "\n",
    "# Populate graph by creating\n",
    "# edges between neighbours\n",
    "for y in range(map_.shape[0]):\n",
    "    for x in range(map_.shape[1]):\n",
    "        # Skip iteration if obstacle\n",
    "        if map_[y,x]:\n",
    "            continue\n",
    "        \n",
    "        # Add edge to non-obstacle element to the right\n",
    "        if y+1 < map_.shape[0] and map_[y+1,x] == 0:\n",
    "            G.add_edge((x,y),(x,y+1))\n",
    "        \n",
    "        # Add edge to non-obstacle element to the left\n",
    "        if y-1 >= 0 and  map_[y-1,x] == 0:\n",
    "            G.add_edge((x,y),(x,y-1))\n",
    "        \n",
    "        # Add edge to non-obstacle element to the bottom\n",
    "        if x+1 < map_.shape[1] and  map_[y,x+1] == 0:\n",
    "            G.add_edge((x,y),(x+1,y))\n",
    "        \n",
    "        # Add edge to non-obstacle element to the top\n",
    "        if x-1 >= 0 and  map_[y,x-1] == 0:\n",
    "            G.add_edge((x,y),(x-1,y))"
   ]
  },
  {
   "cell_type": "markdown",
   "metadata": {},
   "source": [
    "## Source-Target Distances"
   ]
  },
  {
   "cell_type": "code",
   "execution_count": 4,
   "metadata": {},
   "outputs": [],
   "source": [
    "# Compute dictionary of distances\n",
    "# between any node and any other one\n",
    "D = nx.shortest_path(G)"
   ]
  },
  {
   "cell_type": "markdown",
   "metadata": {},
   "source": [
    "## K-medoids clustering"
   ]
  },
  {
   "cell_type": "code",
   "execution_count": 5,
   "metadata": {},
   "outputs": [],
   "source": [
    "# Global variables\n",
    "K = 4\n",
    "TMAX = 100\n",
    "\n",
    "# Medoids list\n",
    "medoids = []\n",
    "\n",
    "# Pick randomly medoids\n",
    "# among the nodes of the\n",
    "# graph\n",
    "for i in range(K):\n",
    "    medoids.append(random.choice(list(G.nodes())))\n",
    "\n",
    "# Iterate over tmax\n",
    "for epoch in range(TMAX):\n",
    "    # Medoids clusters\n",
    "    k_med_clusters = [set() for _ in range(K)]\n",
    "    \n",
    "    # Populate clusters for\n",
    "    # each medoid set\n",
    "    for node in G.nodes():\n",
    "        # Temp variables to\n",
    "        # keep track of closest\n",
    "        # medoids\n",
    "        best_idx = None\n",
    "        best_medoid = None\n",
    "        min_distance = np.inf\n",
    "        \n",
    "        # Iterate over medoids\n",
    "        for idx, medoid in enumerate(medoids):\n",
    "            # Fetch shortest path distance\n",
    "            distance = len(D[node][medoid])\n",
    "            \n",
    "            # Update min distance\n",
    "            # and respective closest\n",
    "            # medoid\n",
    "            if distance < min_distance:\n",
    "                best_idx = idx\n",
    "                best_medoid = medoid\n",
    "                min_distance = distance\n",
    "        \n",
    "        # Add vertex to closest cluster\n",
    "        k_med_clusters[best_idx].add(node)\n",
    "\n",
    "    # Update medoid based on updated clusters\n",
    "    for idx, k_med_cluster in enumerate(k_med_clusters):\n",
    "        # Temp variables\n",
    "        best_medoid = None\n",
    "        min_distance = np.inf\n",
    "        \n",
    "        # Iterate over ith cluster\n",
    "        for node_j in k_med_cluster:\n",
    "            # Compute sum distance for each\n",
    "            # cluster points with respect to\n",
    "            # all other points in the cluster\n",
    "            sum_distance = sum(len(D[node_j][node_l]) for node_l in k_med_cluster)\n",
    "            \n",
    "            # Update min distance and\n",
    "            # respective best medoid\n",
    "            if sum_distance < min_distance:\n",
    "                best_medoid = node_j\n",
    "                min_dist = sum_distance\n",
    "        \n",
    "        # Update medoid\n",
    "        medoids[idx] = best_medoid  "
   ]
  },
  {
   "cell_type": "markdown",
   "metadata": {},
   "source": [
    "## K-Medoids Clustering"
   ]
  },
  {
   "cell_type": "code",
   "execution_count": 6,
   "metadata": {},
   "outputs": [
    {
     "data": {
      "image/png": "[encoded data removed]",
      "text/plain": [
       "<Figure size 288x288 with 1 Axes>"
      ]
     },
     "metadata": {
      "needs_background": "light"
     },
     "output_type": "display_data"
    }
   ],
   "source": [
    "# Medoids cluster map\n",
    "medoids_cluster = map_.copy()\n",
    "\n",
    "# Loop over map and set cluster k\n",
    "for y in range(map_.shape[0]):\n",
    "    for x in range(map_.shape[1]):\n",
    "        # Check if entry is free\n",
    "        if map_[y,x] == 0:\n",
    "            # Check which cluster it belongs to\n",
    "            for idx, k_med_cluster in enumerate(k_med_clusters):\n",
    "                if (x,y) in k_med_cluster:\n",
    "                    medoids_cluster[y, x] = idx + 1\n",
    "        else:\n",
    "            medoids_cluster[y, x] = 0\n",
    "\n",
    "plt.matshow(medoids_cluster, cmap='jet', interpolation='nearest')\n",
    "plt.show()"
   ]
  },
  {
   "cell_type": "markdown",
   "metadata": {},
   "source": [
    "## Spectral Clustering"
   ]
  },
  {
   "cell_type": "code",
   "execution_count": 39,
   "metadata": {},
   "outputs": [
    {
     "name": "stdout",
     "output_type": "stream",
     "text": [
      "[  0   1   2   3   4   5   6   7   8   9  10  11  12  13  14  15  16  17\n",
      "  18  19  20  21  22  23  24  25  26  27  28  29  30  31  32  33  34  35\n",
      "  36  37  38  39  40  41  42  43  44  45  46  47  48  49  50  51  52  53\n",
      "  54  55  56  57  58  59  60  61  62  63  64  65  66  67  68  69  70  71\n",
      "  72  73  74  75  76  77  78  79  80  81  82  83  84  85  86  87  88  89\n",
      "  90  91  92  93  94  95  96  97  98  99 100 101 102 103 104 105 106 107\n",
      " 108 109 110 111 112 113 114 115 116 117 118 119 120 121 122 123 124 125\n",
      " 126 127 128 129 130 131 132 133 134 135 136 137 138 139 140 141 142 143\n",
      " 144 145 146 147 148 149 150 151 152 153 154 155 156 157 158 159 160 161\n",
      " 162 163 164 165 166 167 168 169 170 171 172 173 174 175 176 177 178 179\n",
      " 180 181 182 183 184 185 186 187 188 189 190 191 192 193 194 195 196 197\n",
      " 198 199 200 201 202 203 204 205 206 207 208 209 210 211 212 213 214 215\n",
      " 216 217 218 219 220 221 222 223 224 225 226 227 228 229 230 231 232 233\n",
      " 234 235 236 237 238 239 240 241 242 243 244 245 246 247 248 249 250 251\n",
      " 252 253 254 255 256 257 258 259 260 261 262 263 264 265 266 267 268 269\n",
      " 270 271 272 273 274 275 276 277 278 279 280 281 282 283 284 285 286 287\n",
      " 288 289 290 291 292 293 294 295 296 297 298 299 300 301 302 303 304 305\n",
      " 306 307 308 309 310 311 312 313 314 315 316 317 318 319 320 321 322 323\n",
      " 324 325 326 327 328 329 330 331 332 333 334 335 336 337 338 339 340 341\n",
      " 342 343 344 345 346]\n",
      "Initial centroids:  [[-0.03238154992250389, -0.11870377578783858, -0.05110864072681236, 0.054514464192748954], [0.036222846751964466, 0.024326319647657035, 0.04601502124695423, 0.06895244717153053], [-0.08367692131432368, -0.050798557445574405, 0.11981917763628147, -0.061093328720387904], [0.023629896806708576, -0.013702219084073652, -0.04361268311039711, -0.05272597753517455]]\n"
     ]
    }
   ],
   "source": [
    "# Compute adjacency matrix\n",
    "A = nx.adjacency_matrix(G).todense()\n",
    "\n",
    "# Create degree matrix\n",
    "D = np.zeros((A.shape[0], A.shape[1]))\n",
    "\n",
    "# Populate degree matrix\n",
    "for y in range(A.shape[0]):\n",
    "    degree = 0\n",
    "    for x in range(A.shape[1]):\n",
    "        degree += A[y,x]\n",
    "    \n",
    "    # Update degree for node y\n",
    "    D[y, y] = degree\n",
    "\n",
    "# Compute the laplacian graph\n",
    "L = D - A\n",
    "\n",
    "# Perform EigenValue Decomposition\n",
    "w, v = LA.eigh(L)\n",
    "\n",
    "# Sort eigenvalues and eigenvectors\n",
    "sort_idx = w.argsort() \n",
    "# w = w[sort_idx]\n",
    "# v = v[sort_idx]\n",
    "print(sort_idx)\n",
    "\n",
    "# Fetch the first K eigenvectors\n",
    "v_k = v[:, 1:K+1]\n",
    "\n",
    "# Select randomly k clusters\n",
    "centroids = []\n",
    "for _ in range(K):\n",
    "    # Get random choice input\n",
    "    choice = random.choice(v_k)\n",
    "    \n",
    "    # Populate clusters\n",
    "    centroids.append(np.array(choice)[0].tolist())\n",
    "\n",
    "print(\"Initial centroids: \", centroids)\n",
    "\n",
    "# Perform k-means on data points\n",
    "for _ in range(10):\n",
    "    # Clusters as a list of lists\n",
    "    k_mean_clusters = [[] for _ in range(K)]\n",
    "    \n",
    "    # Iterate over datapoints\n",
    "    for x in range(v_k.shape[0]):\n",
    "        # Temp variables\n",
    "        best_idx = None\n",
    "        min_distance = np.inf\n",
    "        best_centroid = None\n",
    "        \n",
    "        # Iterate over clusters\n",
    "        for idx, centroid in enumerate(centroids):\n",
    "            # Compute euclidean distance\n",
    "            # between node and centroid\n",
    "            distance = np.linalg.norm(np.array(v_k[x])[0].tolist() - np.array(centroid))\n",
    "            \n",
    "            # Get best centroid for\n",
    "            # datapoint in the spectrals\n",
    "            if  distance < min_distance:\n",
    "                best_idx = idx\n",
    "                min_distance = distance\n",
    "                best_centroid = centroid\n",
    "            \n",
    "        # Add node to respective cluster\n",
    "        k_mean_clusters[best_idx].append(np.array(v_k[x]))\n",
    "        \n",
    "    # Update centroids\n",
    "    for i, cluster in enumerate(k_mean_clusters):\n",
    "        # Temp variable\n",
    "        sum_ = np.asarray([0.0,0.0,0.0,0.0])\n",
    "        \n",
    "        # Loop over points in ith cluster\n",
    "        for point in cluster:\n",
    "            sum_ += point[0].tolist()\n",
    "        \n",
    "        # Update centroid as mean\n",
    "        centroids[i] = sum_ / len(cluster)"
   ]
  },
  {
   "cell_type": "markdown",
   "metadata": {},
   "source": [
    "## Spectral Clustering"
   ]
  },
  {
   "cell_type": "code",
   "execution_count": 29,
   "metadata": {},
   "outputs": [
    {
     "name": "stdout",
     "output_type": "stream",
     "text": [
      "[[0 0 0 0 0 0 0 0 0 0 0 0 0 0 0 0 0 0 0 0 0 0]\n",
      " [0 4 4 4 4 4 4 0 0 3 3 3 3 3 0 0 2 2 2 2 2 0]\n",
      " [0 4 4 4 4 4 4 4 3 3 3 3 3 3 0 0 2 2 2 2 2 0]\n",
      " [4 4 4 4 4 4 4 0 0 3 3 3 3 3 0 0 2 2 2 2 2 0]\n",
      " [4 4 4 4 4 4 4 0 0 3 3 3 3 3 0 0 2 2 2 2 2 0]\n",
      " [0 4 4 4 4 4 4 0 0 3 3 3 3 3 3 2 2 2 2 2 2 0]\n",
      " [0 4 4 4 4 4 4 0 0 3 3 3 3 3 0 0 2 2 2 2 2 0]\n",
      " [0 0 0 0 0 0 0 0 0 0 0 0 0 0 0 0 0 0 2 0 0 0]\n",
      " [0 0 0 0 0 0 0 0 0 0 0 0 0 0 0 0 0 0 1 0 0 0]\n",
      " [0 1 1 1 1 1 1 1 1 1 1 1 1 1 1 1 1 1 1 1 1 0]\n",
      " [0 1 1 1 1 1 1 1 1 1 1 1 1 1 1 1 1 1 1 1 1 0]\n",
      " [0 1 1 1 1 1 1 1 1 1 1 1 1 1 1 1 1 1 1 1 1 0]\n",
      " [0 1 1 1 1 1 1 1 1 1 1 1 1 1 1 1 1 1 1 1 1 0]\n",
      " [0 1 1 1 1 1 1 1 1 1 1 1 1 1 1 1 1 1 1 1 1 0]\n",
      " [0 1 1 1 1 1 1 1 1 1 1 1 1 1 1 1 1 1 1 1 1 0]\n",
      " [0 1 1 1 1 1 1 1 1 1 1 1 1 1 1 1 1 1 1 1 1 0]\n",
      " [0 1 1 1 1 1 1 1 1 1 1 1 1 1 1 1 1 1 1 1 1 0]\n",
      " [0 1 1 1 1 1 1 1 1 1 1 1 1 1 1 1 1 1 1 1 1 0]\n",
      " [0 1 1 1 1 1 1 1 1 1 1 1 1 1 1 1 1 1 1 1 1 0]\n",
      " [0 1 1 1 1 1 1 1 1 1 1 1 1 1 1 1 1 1 1 1 1 0]\n",
      " [0 1 1 1 1 1 1 1 1 1 1 1 1 1 1 1 1 1 1 1 1 0]\n",
      " [0 0 0 0 1 1 1 0 0 0 0 0 0 0 0 0 0 0 0 0 0 0]]\n"
     ]
    },
    {
     "data": {
      "image/png": "[encoded data removed]",
      "text/plain": [
       "<Figure size 288x288 with 1 Axes>"
      ]
     },
     "metadata": {
      "needs_background": "light"
     },
     "output_type": "display_data"
    }
   ],
   "source": [
    "# List of nodes\n",
    "nodes = list(G.nodes())\n",
    "\n",
    "# Copy of original map\n",
    "map_clustered = np.zeros_like(map_)\n",
    "\n",
    "# Iterate over all clusters\n",
    "for idx, k_mean_cluster in enumerate(k_mean_clusters):\n",
    "    # Iterate over all points in the cluster\n",
    "    for point in k_mean_cluster:\n",
    "        # Find where point matches\n",
    "        i, _ = np.where(np.isclose(v_k, point).all(axis=1))\n",
    "#         print(i)\n",
    "                \n",
    "        # Get corresponding i,j in map for match\n",
    "        x,y = nodes[i[0]]\n",
    "        \n",
    "#         print(y,x)\n",
    "        \n",
    "        # Update map\n",
    "        map_clustered[y,x] = idx + 1\n",
    "\n",
    "print(map_clustered)\n",
    "# print(k_mean_clusters)\n",
    "\n",
    "plt.matshow(map_clustered, cmap='jet', interpolation='nearest')\n",
    "plt.show()"
   ]
  },
  {
   "cell_type": "code",
   "execution_count": null,
   "metadata": {},
   "outputs": [],
   "source": []
  }
 ],
 "metadata": {
  "kernelspec": {
   "display_name": "Python 3",
   "language": "python",
   "name": "python3"
  },
  "language_info": {
   "codemirror_mode": {
    "name": "ipython",
    "version": 3
   },
   "file_extension": ".py",
   "mimetype": "text/x-python",
   "name": "python",
   "nbconvert_exporter": "python",
   "pygments_lexer": "ipython3",
   "version": "3.7.2"
  }
 },
 "nbformat": 4,
 "nbformat_minor": 4
}
