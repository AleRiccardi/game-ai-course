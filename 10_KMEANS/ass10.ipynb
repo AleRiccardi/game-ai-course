{
 "cells": [
  {
   "cell_type": "markdown",
   "metadata": {},
   "source": [
    "## General"
   ]
  },
  {
   "cell_type": "code",
   "execution_count": 313,
   "metadata": {},
   "outputs": [],
   "source": [
    "# Import libraries\n",
    "import string\n",
    "import random\n",
    "import numpy as np\n",
    "import networkx as nx\n",
    "from numpy import linalg as LA\n",
    "import matplotlib.pyplot as plt"
   ]
  },
  {
   "cell_type": "markdown",
   "metadata": {},
   "source": [
    "## Load Map"
   ]
  },
  {
   "cell_type": "code",
   "execution_count": 314,
   "metadata": {},
   "outputs": [],
   "source": [
    "# Load map\n",
    "map_ = np.loadtxt(\"simple-map-dungeon.txt\").astype(int)"
   ]
  },
  {
   "cell_type": "markdown",
   "metadata": {},
   "source": [
    "## Graph Creation (NetworkX)"
   ]
  },
  {
   "cell_type": "code",
   "execution_count": 315,
   "metadata": {},
   "outputs": [],
   "source": [
    "# Create graph instance\n",
    "G = nx.Graph()\n",
    "\n",
    "# Populate graph by creating\n",
    "# edges between neighbours\n",
    "for y in range(map_.shape[0]):\n",
    "    for x in range(map_.shape[1]):\n",
    "        # Skip iteration if obstacle\n",
    "        if map_[y,x]:\n",
    "            continue\n",
    "        \n",
    "        # Add edge to non-obstacle element to the right\n",
    "        if y+1 < map_.shape[0] and map_[y+1,x] == 0:\n",
    "            G.add_edge((x,y),(x,y+1))\n",
    "        \n",
    "        # Add edge to non-obstacle element to the left\n",
    "        if y-1 >= 0 and  map_[y-1,x] == 0:\n",
    "            G.add_edge((x,y),(x,y-1))\n",
    "        \n",
    "        # Add edge to non-obstacle element to the bottom\n",
    "        if x+1 < map_.shape[1] and  map_[y,x+1] == 0:\n",
    "            G.add_edge((x,y),(x+1,y))\n",
    "        \n",
    "        # Add edge to non-obstacle element to the top\n",
    "        if x-1 >= 0 and  map_[y,x-1] == 0:\n",
    "            G.add_edge((x,y),(x-1,y))"
   ]
  },
  {
   "cell_type": "markdown",
   "metadata": {},
   "source": [
    "## Source-Target Distances"
   ]
  },
  {
   "cell_type": "code",
   "execution_count": 316,
   "metadata": {},
   "outputs": [],
   "source": [
    "# Compute dictionary of distances\n",
    "# between any node and any other one\n",
    "D = nx.shortest_path(G)"
   ]
  },
  {
   "cell_type": "markdown",
   "metadata": {},
   "source": [
    "## K-medoids clustering"
   ]
  },
  {
   "cell_type": "code",
   "execution_count": 317,
   "metadata": {},
   "outputs": [],
   "source": [
    "# Global variables\n",
    "K = 4\n",
    "TMAX = 100\n",
    "\n",
    "# Medoids list\n",
    "medoids = []\n",
    "\n",
    "# Pick randomly medoids\n",
    "# among the nodes of the\n",
    "# graph\n",
    "for i in range(K):\n",
    "    medoids.append(random.choice(list(G.nodes())))\n",
    "\n",
    "# Iterate over tmax\n",
    "for epoch in range(TMAX):\n",
    "    # Medoids clusters\n",
    "    k_med_clusters = [set() for _ in range(K)]\n",
    "    \n",
    "    # Populate clusters for\n",
    "    # each medoid set\n",
    "    for node in G.nodes():\n",
    "        # Temp variables to\n",
    "        # keep track of closest\n",
    "        # medoids\n",
    "        best_idx = None\n",
    "        best_medoid = None\n",
    "        min_distance = np.inf\n",
    "        \n",
    "        # Iterate over medoids\n",
    "        for idx, medoid in enumerate(medoids):\n",
    "            # Fetch shortest path distance\n",
    "            distance = len(D[node][medoid])\n",
    "            \n",
    "            # Update min distance\n",
    "            # and respective closest\n",
    "            # medoid\n",
    "            if distance < min_distance:\n",
    "                best_idx = idx\n",
    "                best_medoid = medoid\n",
    "                min_distance = distance\n",
    "        \n",
    "        # Add vertex to closest cluster\n",
    "        k_med_clusters[best_idx].add(node)\n",
    "\n",
    "    # Update medoid based on updated clusters\n",
    "    for idx, k_med_cluster in enumerate(k_med_clusters):\n",
    "        # Temp variables\n",
    "        best_medoid = None\n",
    "        min_distance = np.inf\n",
    "        \n",
    "        # Iterate over ith cluster\n",
    "        for node_j in k_med_cluster:\n",
    "            # Compute sum distance for each\n",
    "            # cluster points with respect to\n",
    "            # all other points in the cluster\n",
    "            sum_distance = sum(len(D[node_j][node_l]) for node_l in k_med_cluster)\n",
    "            \n",
    "            # Update min distance and\n",
    "            # respective best medoid\n",
    "            if sum_distance < min_distance:\n",
    "                best_medoid = node_j\n",
    "                min_dist = sum_distance\n",
    "        \n",
    "        # Update medoid\n",
    "        medoids[idx] = best_medoid  "
   ]
  },
  {
   "cell_type": "markdown",
   "metadata": {},
   "source": [
    "## K-Medoids Clustering"
   ]
  },
  {
   "cell_type": "code",
   "execution_count": 318,
   "metadata": {},
   "outputs": [
    {
     "data": {
      "image/png": "[encoded data removed]",
      "text/plain": [
       "<Figure size 288x288 with 1 Axes>"
      ]
     },
     "metadata": {
      "needs_background": "light"
     },
     "output_type": "display_data"
    }
   ],
   "source": [
    "# Medoids cluster map\n",
    "medoids_cluster = map_.copy()\n",
    "\n",
    "# Loop over map and set cluster k\n",
    "for y in range(map_.shape[0]):\n",
    "    for x in range(map_.shape[1]):\n",
    "        # Check if entry is free\n",
    "        if map_[y,x] == 0:\n",
    "            # Check which cluster it belongs to\n",
    "            for idx, k_med_cluster in enumerate(k_med_clusters):\n",
    "                if (x,y) in k_med_cluster:\n",
    "                    medoids_cluster[y, x] = idx + 1\n",
    "        else:\n",
    "            medoids_cluster[y, x] = 0\n",
    "\n",
    "plt.matshow(medoids_cluster, cmap='jet', interpolation='nearest')\n",
    "plt.show()"
   ]
  },
  {
   "cell_type": "markdown",
   "metadata": {},
   "source": [
    "## Spectral Clustering"
   ]
  },
  {
   "cell_type": "code",
   "execution_count": 328,
   "metadata": {},
   "outputs": [
    {
     "name": "stdout",
     "output_type": "stream",
     "text": [
      "Initial centroids:  [[0.03605211565910393, 0.023326454008845622, 0.03845248042266974, 0.052881923432308006], [0.0273885497728792, -0.005483764879547317, -0.04446718034056537, -0.0701402929153977], [0.03209809738825917, 0.00784375521291419, -0.02289364392464608, -0.051108447828142785], [0.031192078118191083, 0.004559668389637922, -0.0342323144595119, -0.06939250062377118]]\n",
      "\n",
      "\n"
     ]
    }
   ],
   "source": [
    "# Compute adjacency matrix\n",
    "A = nx.adjacency_matrix(G).todense()\n",
    "\n",
    "# Create degree matrix\n",
    "D = np.zeros((A.shape[0], A.shape[1]))\n",
    "\n",
    "# Populate degree matrix\n",
    "for y in range(A.shape[0]):\n",
    "    degree = 0\n",
    "    for x in range(A.shape[1]):\n",
    "        degree += A[y,x]\n",
    "    \n",
    "    # Update degree for node y\n",
    "    D[y, y] = degree\n",
    "\n",
    "# Compute the laplacian graph\n",
    "L = D - A\n",
    "\n",
    "# Perform EigenValue Decomposition\n",
    "w, v = LA.eigh(L)\n",
    "\n",
    "# Sort eigenvalues and eigenvectors\n",
    "sort_idx = w.argsort() \n",
    "w = w[sort_idx]\n",
    "v = v[sort_idx]\n",
    "\n",
    "# Fetch the first K eigenvectors\n",
    "v_k = v[:, 1:K+1]\n",
    "\n",
    "# Select randomly k clusters\n",
    "centroids = []\n",
    "for _ in range(K):\n",
    "    # Get random choice input\n",
    "    choice = random.choice(v_k)\n",
    "    \n",
    "    # Populate clusters\n",
    "    centroids.append(np.array(choice)[0].tolist())\n",
    "\n",
    "print(\"Initial centroids: \", centroids)\n",
    "\n",
    "# Perform k-means on data points\n",
    "for _ in range(10):\n",
    "    # Clusters as a list of lists\n",
    "    k_mean_clusters = [[] for _ in range(K)]\n",
    "    \n",
    "    # Iterate over datapoints\n",
    "    for x in range(v_k.shape[0]):\n",
    "        # Temp variables\n",
    "        best_idx = None\n",
    "        min_distance = np.inf\n",
    "        best_centroid = None\n",
    "        \n",
    "        # Iterate over clusters\n",
    "        for idx, centroid in enumerate(centroids):\n",
    "            # Compute euclidean distance\n",
    "            # between node and centroid\n",
    "            distance = np.linalg.norm(np.array(v_k[x])[0].tolist() - np.array(centroid))\n",
    "            \n",
    "            # Get best centroid for\n",
    "            # datapoint in the spectrals\n",
    "            if  distance < min_distance:\n",
    "                best_idx = idx\n",
    "                min_distance = distance\n",
    "                best_centroid = centroid\n",
    "            \n",
    "        # Add node to respective cluster\n",
    "        k_mean_clusters[best_idx].append(np.array(v_k[x]))\n",
    "        \n",
    "    # Update centroids\n",
    "    for i, cluster in enumerate(k_mean_clusters):\n",
    "        # Temp variable\n",
    "        sum_ = np.asarray([0.0,0.0,0.0,0.0])\n",
    "        \n",
    "        # Loop over points in ith cluster\n",
    "        for point in cluster:\n",
    "            sum_ += point[0].tolist()\n",
    "        \n",
    "        # Update centroid as mean\n",
    "        centroids[i] = sum_ / len(cluster)\n",
    "\n",
    "print(\"\\n\")\n",
    "# print(\"Final centroids: \", centroids)"
   ]
  },
  {
   "cell_type": "markdown",
   "metadata": {},
   "source": [
    "## Spectral Clustering"
   ]
  },
  {
   "cell_type": "code",
   "execution_count": 326,
   "metadata": {},
   "outputs": [
    {
     "name": "stdout",
     "output_type": "stream",
     "text": [
      "[[0 0 0 0 0 0 0 0 0 0 0 0 0 0 0 0 0 0 0 0 0 0]\n",
      " [0 4 4 4 4 4 4 0 0 3 3 3 3 3 0 0 1 1 1 1 1 0]\n",
      " [0 4 4 4 4 4 4 4 3 3 3 3 3 3 0 0 1 1 1 1 1 0]\n",
      " [4 4 4 4 4 4 4 0 0 3 3 3 3 3 0 0 1 1 1 1 1 0]\n",
      " [4 4 4 4 4 4 4 0 0 3 3 3 3 3 0 0 1 1 1 1 1 0]\n",
      " [0 4 4 4 4 4 4 0 0 3 3 3 3 3 3 1 1 1 1 1 1 0]\n",
      " [0 4 4 4 4 4 4 0 0 3 3 3 3 3 0 0 1 1 1 1 1 0]\n",
      " [0 0 0 0 0 0 0 0 0 0 0 0 0 0 0 0 0 0 1 0 0 0]\n",
      " [0 0 0 0 0 0 0 0 0 0 0 0 0 0 0 0 0 0 2 0 0 0]\n",
      " [0 2 2 2 2 2 2 2 2 2 2 2 2 2 2 2 2 2 2 2 2 0]\n",
      " [0 2 2 2 2 2 2 2 2 2 2 2 2 2 2 2 2 2 2 2 2 0]\n",
      " [0 2 2 2 2 2 2 2 2 2 2 2 2 2 2 2 2 2 2 2 2 0]\n",
      " [0 2 2 2 2 2 2 2 2 2 2 2 2 2 2 2 2 2 2 2 2 0]\n",
      " [0 2 2 2 2 2 2 2 2 2 2 2 2 2 2 2 2 2 2 2 2 0]\n",
      " [0 2 2 2 2 2 2 2 2 2 2 2 2 2 2 2 2 2 2 2 2 0]\n",
      " [0 2 2 2 2 2 2 2 2 2 2 2 2 2 2 2 2 2 2 2 2 0]\n",
      " [0 2 2 2 2 2 2 2 2 2 2 2 2 2 2 2 2 2 2 2 2 0]\n",
      " [0 2 2 2 2 2 2 2 2 2 2 2 2 2 2 2 2 2 2 2 2 0]\n",
      " [0 2 2 2 2 2 2 2 2 2 2 2 2 2 2 2 2 2 2 2 2 0]\n",
      " [0 2 2 2 2 2 2 2 2 2 2 2 2 2 2 2 2 2 2 2 2 0]\n",
      " [0 2 2 2 2 2 2 2 2 2 2 2 2 2 2 2 2 2 2 2 2 0]\n",
      " [0 0 0 0 2 2 2 0 0 0 0 0 0 0 0 0 0 0 0 0 0 0]]\n"
     ]
    },
    {
     "data": {
      "image/png": "[encoded data removed]",
      "text/plain": [
       "<Figure size 288x288 with 1 Axes>"
      ]
     },
     "metadata": {
      "needs_background": "light"
     },
     "output_type": "display_data"
    }
   ],
   "source": [
    "# List of nodes\n",
    "nodes = list(G.nodes())\n",
    "\n",
    "# Copy of original map\n",
    "map_clustered = np.zeros_like(map_)\n",
    "\n",
    "# Iterate over all clusters\n",
    "for idx, k_mean_cluster in enumerate(k_mean_clusters):\n",
    "    # Iterate over all points in the cluster\n",
    "    for point in k_mean_cluster:\n",
    "        # Find where point matches\n",
    "        i, _ = np.where(np.isclose(v_k, point).all(axis=1))\n",
    "#         print(i)\n",
    "                \n",
    "        # Get corresponding i,j in map for match\n",
    "        x,y = nodes[i[0]]\n",
    "        \n",
    "#         print(y,x)\n",
    "        \n",
    "        # Update map\n",
    "        map_clustered[y,x] = idx + 1\n",
    "\n",
    "print(map_clustered)\n",
    "# print(k_mean_clusters)\n",
    "\n",
    "plt.matshow(map_clustered, cmap='jet', interpolation='nearest')\n",
    "plt.show()"
   ]
  }
 ],
 "metadata": {
  "kernelspec": {
   "display_name": "Python 3",
   "language": "python",
   "name": "python3"
  },
  "language_info": {
   "codemirror_mode": {
    "name": "ipython",
    "version": 3
   },
   "file_extension": ".py",
   "mimetype": "text/x-python",
   "name": "python",
   "nbconvert_exporter": "python",
   "pygments_lexer": "ipython3",
   "version": "3.7.2"
  }
 },
 "nbformat": 4,
 "nbformat_minor": 4
}
