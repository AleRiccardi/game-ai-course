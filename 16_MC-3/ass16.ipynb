{
 "cells": [
  {
   "cell_type": "code",
   "execution_count": 2,
   "metadata": {},
   "outputs": [],
   "source": [
    "import numpy as np\n",
    "import collections as cl\n",
    "\n",
    "P2 = np.array([\n",
    "    [0.25, 0.10, 0.25],\n",
    "    [0.50, 0.80, 0.50],\n",
    "    [0.25, 0.10, 0.25]],dtype=np.float32)\n",
    "\n",
    "ro_s = [5,10,100]"
   ]
  },
  {
   "cell_type": "markdown",
   "metadata": {},
   "source": [
    "## task 16.1: the likelihood of a future event"
   ]
  },
  {
   "cell_type": "code",
   "execution_count": 5,
   "metadata": {
    "tags": []
   },
   "outputs": [
    {
     "output_type": "stream",
     "name": "stdout",
     "text": "5 -2.725155669005149\n10 -3.8408734255761976\n100 -23.92379304385507\n"
    }
   ],
   "source": [
    "for ro in ro_s:\n",
    "    log_l = ro * np.log(0.8) + np.log(1-0.8)\n",
    "    print(ro, log_l)"
   ]
  },
  {
   "cell_type": "markdown",
   "metadata": {},
   "source": [
    "## task 16.2: the likelihood of another future event"
   ]
  },
  {
   "cell_type": "code",
   "execution_count": null,
   "metadata": {},
   "outputs": [],
   "source": [
    "for ro in ro_s:\n",
    "    log_l = ro * np.log(0.8) + np.log(1-0.8)\n",
    "    print(ro, log_l)"
   ]
  },
  {
   "cell_type": "markdown",
   "metadata": {},
   "source": [
    "## task 16.2: the likelihood of another yet future event"
   ]
  },
  {
   "cell_type": "code",
   "execution_count": null,
   "metadata": {},
   "outputs": [],
   "source": []
  }
 ],
 "metadata": {
  "language_info": {
   "codemirror_mode": {
    "name": "ipython",
    "version": 3
   },
   "file_extension": ".py",
   "mimetype": "text/x-python",
   "name": "python",
   "nbconvert_exporter": "python",
   "pygments_lexer": "ipython3",
   "version": "3.6.9-final"
  },
  "orig_nbformat": 2,
  "kernelspec": {
   "name": "python36964bitenvvenvf49d38e88eb14d2686563e94a7ce8b94",
   "display_name": "Python 3.6.9 64-bit ('.env': venv)"
  }
 },
 "nbformat": 4,
 "nbformat_minor": 2
}