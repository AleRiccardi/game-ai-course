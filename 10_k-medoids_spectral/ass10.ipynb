{
 "cells": [
  {
   "cell_type": "code",
   "execution_count": 43,
   "metadata": {},
   "outputs": [
    {
     "output_type": "execute_result",
     "data": {
      "text/plain": "array([[1, 1, 1, 1, 1, 1, 1, 1, 1, 1, 1, 1, 1, 1, 1, 1, 1, 1, 1, 1, 1, 1],\n       [1, 0, 0, 0, 0, 0, 0, 1, 1, 0, 0, 0, 0, 0, 1, 1, 0, 0, 0, 0, 0, 1],\n       [1, 0, 0, 0, 0, 0, 0, 0, 0, 0, 0, 0, 0, 0, 1, 1, 0, 0, 0, 0, 0, 1],\n       [0, 0, 0, 0, 0, 0, 0, 1, 1, 0, 0, 0, 0, 0, 1, 1, 0, 0, 0, 0, 0, 1],\n       [0, 0, 0, 0, 0, 0, 0, 1, 1, 0, 0, 0, 0, 0, 1, 1, 0, 0, 0, 0, 0, 1],\n       [1, 0, 0, 0, 0, 0, 0, 1, 1, 0, 0, 0, 0, 0, 0, 0, 0, 0, 0, 0, 0, 1],\n       [1, 0, 0, 0, 0, 0, 0, 1, 1, 0, 0, 0, 0, 0, 1, 1, 0, 0, 0, 0, 0, 1],\n       [1, 1, 1, 1, 1, 1, 1, 1, 1, 1, 1, 1, 1, 1, 1, 1, 1, 1, 0, 1, 1, 1],\n       [1, 1, 1, 1, 1, 1, 1, 1, 1, 1, 1, 1, 1, 1, 1, 1, 1, 1, 0, 1, 1, 1],\n       [1, 0, 0, 0, 0, 0, 0, 0, 0, 0, 0, 0, 0, 0, 0, 0, 0, 0, 0, 0, 0, 1],\n       [1, 0, 0, 0, 0, 0, 0, 0, 0, 0, 0, 0, 0, 0, 0, 0, 0, 0, 0, 0, 0, 1],\n       [1, 0, 0, 0, 0, 0, 0, 0, 0, 0, 0, 0, 0, 0, 0, 0, 0, 0, 0, 0, 0, 1],\n       [1, 0, 0, 0, 0, 0, 0, 0, 0, 0, 0, 0, 0, 0, 0, 0, 0, 0, 0, 0, 0, 1],\n       [1, 0, 0, 0, 0, 0, 0, 0, 0, 0, 0, 0, 0, 0, 0, 0, 0, 0, 0, 0, 0, 1],\n       [1, 0, 0, 0, 0, 0, 0, 0, 0, 0, 0, 0, 0, 0, 0, 0, 0, 0, 0, 0, 0, 1],\n       [1, 0, 0, 0, 0, 0, 0, 0, 0, 0, 0, 0, 0, 0, 0, 0, 0, 0, 0, 0, 0, 1],\n       [1, 0, 0, 0, 0, 0, 0, 0, 0, 0, 0, 0, 0, 0, 0, 0, 0, 0, 0, 0, 0, 1],\n       [1, 0, 0, 0, 0, 0, 0, 0, 0, 0, 0, 0, 0, 0, 0, 0, 0, 0, 0, 0, 0, 1],\n       [1, 0, 0, 0, 0, 0, 0, 0, 0, 0, 0, 0, 0, 0, 0, 0, 0, 0, 0, 0, 0, 1],\n       [1, 0, 0, 0, 0, 0, 0, 0, 0, 0, 0, 0, 0, 0, 0, 0, 0, 0, 0, 0, 0, 1],\n       [1, 0, 0, 0, 0, 0, 0, 0, 0, 0, 0, 0, 0, 0, 0, 0, 0, 0, 0, 0, 0, 1],\n       [1, 1, 1, 1, 0, 0, 0, 1, 1, 1, 1, 1, 1, 1, 1, 1, 1, 1, 1, 1, 1, 1]])"
     },
     "metadata": {},
     "execution_count": 43
    }
   ],
   "source": [
    "import numpy as np\n",
    "import networkx as nx\n",
    "import string\n",
    "\n",
    "np_map = np.loadtxt(\"simple-map-dungeon.txt\").astype(int)\n",
    "np_map"
   ]
  },
  {
   "cell_type": "markdown",
   "metadata": {},
   "source": [
    "## Graph creation"
   ]
  },
  {
   "cell_type": "code",
   "execution_count": 44,
   "metadata": {},
   "outputs": [],
   "source": [
    "G=nx.Graph()\n",
    "\n",
    "for y in range(np_map.shape[0]):\n",
    "    for x in range(np_map.shape[1]):\n",
    "        if np_map[y,x]:\n",
    "            continue\n",
    "        \n",
    "        if y+1 < np_map.shape[0] and np_map[y+1,x] == 0:\n",
    "            G.add_edge((x,y),(x,y+1))\n",
    "        \n",
    "        if y-1 >= 0 and  np_map[y-1,x] == 0:\n",
    "            G.add_edge((x,y),(x,y-1))\n",
    "        \n",
    "        if x+1 < np_map.shape[1] and  np_map[y,x+1] == 0:\n",
    "            G.add_edge((x,y),(x+1,y))\n",
    "        \n",
    "        if x-1 >= 0 and  np_map[y,x-1] == 0:\n",
    "            G.add_edge((x,y),(x-1,y))\n",
    "        "
   ]
  },
  {
   "cell_type": "code",
   "execution_count": 45,
   "metadata": {},
   "outputs": [],
   "source": [
    "paths = nx.shortest_path(G)"
   ]
  },
  {
   "cell_type": "markdown",
   "metadata": {},
   "source": [
    "## 10.2 - K-medoids clustering"
   ]
  },
  {
   "cell_type": "code",
   "execution_count": 52,
   "metadata": {
    "tags": []
   },
   "outputs": [
    {
     "output_type": "stream",
     "name": "stdout",
     "text": "[(11, 2), (14, 10), (6, 21), (12, 6)]\n[(5, 2), (15, 15), (5, 15), (17, 5)]\n"
    }
   ],
   "source": [
    "import random\n",
    "\n",
    "klusters_n = 4\n",
    "centroids = []\n",
    "\n",
    "def get_dist_graph(G, v1, v2):\n",
    "    return len(paths[v1][v2])\n",
    "\n",
    "for i in range(klusters_n):\n",
    "    centroids.append(random.choice(list(G.nodes())))\n",
    "\n",
    "print(centroids)\n",
    "    \n",
    "for epoch in range(50):\n",
    "    clusters = [set() for _ in range(len(centroids))]\n",
    "    # Loop over the nodes\n",
    "    for node in G.nodes():\n",
    "        # Get closest distance to centroid i\n",
    "        \n",
    "        min_dist = np.inf\n",
    "        min_centr = ()\n",
    "        \n",
    "        for centr in centroids:\n",
    "            dist = get_dist_graph(G, node, centr)\n",
    "            # Save min centroid\n",
    "            if dist < min_dist:\n",
    "                min_dist = dist\n",
    "                min_centr = centr\n",
    "        \n",
    "        # Add node to correct cluster\n",
    "        idx = centroids.index(min_centr)\n",
    "        clusters[idx].add(node)\n",
    "\n",
    "    for idx, clust_set in enumerate(clusters):\n",
    "        min_dist = np.inf\n",
    "        min_centr = ()\n",
    "        for node in clust_set:\n",
    "            sum_dist = sum(get_dist_graph(G, node, node2) for node2 in clust_set)\n",
    "            if sum_dist < min_dist:\n",
    "                min_dist = sum_dist\n",
    "                min_centr = node\n",
    "\n",
    "        centroids[idx] = min_centr    \n",
    "print(centroids)        "
   ]
  },
  {
   "cell_type": "code",
   "execution_count": 53,
   "metadata": {},
   "outputs": [
    {
     "output_type": "execute_result",
     "data": {
      "text/plain": "array([[0, 0, 0, 0, 0, 0, 0, 0, 0, 0, 0, 0, 0, 0, 0, 0, 0, 0, 0, 0, 0, 0],\n       [0, 1, 1, 1, 1, 1, 1, 0, 0, 1, 1, 1, 1, 4, 0, 0, 4, 4, 4, 4, 4, 0],\n       [0, 1, 1, 1, 1, 1, 1, 1, 1, 1, 1, 1, 1, 4, 0, 0, 4, 4, 4, 4, 4, 0],\n       [1, 1, 1, 1, 1, 1, 1, 0, 0, 1, 1, 1, 4, 4, 0, 0, 4, 4, 4, 4, 4, 0],\n       [1, 1, 1, 1, 1, 1, 1, 0, 0, 1, 1, 4, 4, 4, 0, 0, 4, 4, 4, 4, 4, 0],\n       [0, 1, 1, 1, 1, 1, 1, 0, 0, 1, 4, 4, 4, 4, 4, 4, 4, 4, 4, 4, 4, 0],\n       [0, 1, 1, 1, 1, 1, 1, 0, 0, 1, 4, 4, 4, 4, 0, 0, 4, 4, 4, 4, 4, 0],\n       [0, 0, 0, 0, 0, 0, 0, 0, 0, 0, 0, 0, 0, 0, 0, 0, 0, 0, 4, 0, 0, 0],\n       [0, 0, 0, 0, 0, 0, 0, 0, 0, 0, 0, 0, 0, 0, 0, 0, 0, 0, 4, 0, 0, 0],\n       [0, 3, 3, 3, 3, 3, 3, 3, 3, 3, 2, 2, 2, 2, 2, 2, 2, 4, 4, 4, 4, 0],\n       [0, 3, 3, 3, 3, 3, 3, 3, 3, 3, 2, 2, 2, 2, 2, 2, 2, 2, 4, 4, 4, 0],\n       [0, 3, 3, 3, 3, 3, 3, 3, 3, 3, 2, 2, 2, 2, 2, 2, 2, 2, 2, 2, 2, 0],\n       [0, 3, 3, 3, 3, 3, 3, 3, 3, 3, 2, 2, 2, 2, 2, 2, 2, 2, 2, 2, 2, 0],\n       [0, 3, 3, 3, 3, 3, 3, 3, 3, 3, 2, 2, 2, 2, 2, 2, 2, 2, 2, 2, 2, 0],\n       [0, 3, 3, 3, 3, 3, 3, 3, 3, 3, 2, 2, 2, 2, 2, 2, 2, 2, 2, 2, 2, 0],\n       [0, 3, 3, 3, 3, 3, 3, 3, 3, 3, 2, 2, 2, 2, 2, 2, 2, 2, 2, 2, 2, 0],\n       [0, 3, 3, 3, 3, 3, 3, 3, 3, 3, 2, 2, 2, 2, 2, 2, 2, 2, 2, 2, 2, 0],\n       [0, 3, 3, 3, 3, 3, 3, 3, 3, 3, 2, 2, 2, 2, 2, 2, 2, 2, 2, 2, 2, 0],\n       [0, 3, 3, 3, 3, 3, 3, 3, 3, 3, 2, 2, 2, 2, 2, 2, 2, 2, 2, 2, 2, 0],\n       [0, 3, 3, 3, 3, 3, 3, 3, 3, 3, 2, 2, 2, 2, 2, 2, 2, 2, 2, 2, 2, 0],\n       [0, 3, 3, 3, 3, 3, 3, 3, 3, 3, 2, 2, 2, 2, 2, 2, 2, 2, 2, 2, 2, 0],\n       [0, 0, 0, 0, 3, 3, 3, 0, 0, 0, 0, 0, 0, 0, 0, 0, 0, 0, 0, 0, 0, 0]])"
     },
     "metadata": {},
     "execution_count": 53
    }
   ],
   "source": [
    "map_clustered = np_map.copy()\n",
    "for y in range(np_map.shape[0]):\n",
    "    for x in range(np_map.shape[1]):\n",
    "        node = np_map[y,x]\n",
    "        if node == 0:\n",
    "            for idx, clust_set in enumerate(clusters):\n",
    "                if (x,y) in clust_set:\n",
    "                    map_clustered[y, x] = idx + 1\n",
    "        else:\n",
    "            map_clustered[y, x] = 0\n",
    "map_clustered "
   ]
  },
  {
   "cell_type": "markdown",
   "metadata": {},
   "source": [
    "## 10.3 - Spectral clustering"
   ]
  },
  {
   "cell_type": "code",
   "execution_count": 56,
   "metadata": {},
   "outputs": [
    {
     "output_type": "execute_result",
     "data": {
      "text/plain": "matrix([[-0.11497816,  0.09001546, -0.05210374,  0.02183628],\n        [-0.11509498,  0.09058648, -0.05289917,  0.02223714],\n        [-0.11466939,  0.08853317, -0.05009633,  0.02083393],\n        ...,\n        [ 0.03623463,  0.02406908,  0.04147767,  0.05797099],\n        [ 0.0361467 ,  0.02368871,  0.03969896,  0.05477532],\n        [ 0.03604437,  0.02324901,  0.0376679 ,  0.05114375]])"
     },
     "metadata": {},
     "execution_count": 56
    }
   ],
   "source": [
    "# Adiacent matrix\n",
    "A = nx.convert_matrix.to_numpy_matrix(G)\n",
    "\n",
    "# Degree matrix\n",
    "D = np.zeros_like(A)\n",
    "# Asssignment of the degrees\n",
    "for i in range(A.shape[0]):\n",
    "    D[i,i] = A[i].sum()\n",
    "\n",
    "# Laplacian matrix\n",
    "L = D - A\n",
    "\n",
    "# Eigenvalue decomposition  \n",
    "e_values, e_vectors = np.linalg.eigh(L)\n",
    "\n",
    "W = e_vectors[:,1:klusters_n+1]\n",
    "W"
   ]
  },
  {
   "cell_type": "markdown",
   "metadata": {},
   "source": [
    "### K-means clustering over eigenvectors"
   ]
  },
  {
   "cell_type": "code",
   "execution_count": 100,
   "metadata": {
    "tags": []
   },
   "outputs": [
    {
     "output_type": "stream",
     "name": "stdout",
     "text": "[array([-0.11367679,  0.08381104, -0.04378903,  0.01769841]), array([-0.07924779, -0.06478903,  0.12583468, -0.06227999]), array([0.0352568 , 0.02018674, 0.02626424, 0.03270435]), array([ 0.03232668,  0.0095451 , -0.01010703, -0.02531048])]\n"
    },
    {
     "output_type": "error",
     "ename": "TypeError",
     "evalue": "list indices must be integers or slices, not generator",
     "traceback": [
      "\u001b[0;31m---------------------------------------------------------------------------\u001b[0m",
      "\u001b[0;31mTypeError\u001b[0m                                 Traceback (most recent call last)",
      "\u001b[0;32m<ipython-input-100-dbf44dee818b>\u001b[0m in \u001b[0;36m<module>\u001b[0;34m\u001b[0m\n\u001b[1;32m     33\u001b[0m         \u001b[0;31m# Add node to correct cluster\u001b[0m\u001b[0;34m\u001b[0m\u001b[0;34m\u001b[0m\u001b[0;34m\u001b[0m\u001b[0m\n\u001b[1;32m     34\u001b[0m         \u001b[0midx\u001b[0m \u001b[0;34m=\u001b[0m \u001b[0;34m(\u001b[0m\u001b[0midx\u001b[0m \u001b[0;32mfor\u001b[0m \u001b[0midx\u001b[0m\u001b[0;34m,\u001b[0m \u001b[0mcentr\u001b[0m \u001b[0;32min\u001b[0m \u001b[0menumerate\u001b[0m\u001b[0;34m(\u001b[0m\u001b[0mcentroids\u001b[0m\u001b[0;34m)\u001b[0m  \u001b[0;32mif\u001b[0m \u001b[0mcentr\u001b[0m \u001b[0;34m==\u001b[0m \u001b[0mmin_center\u001b[0m\u001b[0;34m)\u001b[0m\u001b[0;34m\u001b[0m\u001b[0;34m\u001b[0m\u001b[0m\n\u001b[0;32m---> 35\u001b[0;31m         \u001b[0mclusters\u001b[0m\u001b[0;34m[\u001b[0m\u001b[0midx\u001b[0m\u001b[0;34m]\u001b[0m\u001b[0;34m.\u001b[0m\u001b[0madd\u001b[0m\u001b[0;34m(\u001b[0m\u001b[0mnode\u001b[0m\u001b[0;34m)\u001b[0m\u001b[0;34m\u001b[0m\u001b[0;34m\u001b[0m\u001b[0m\n\u001b[0m\u001b[1;32m     36\u001b[0m \u001b[0;34m\u001b[0m\u001b[0m\n\u001b[1;32m     37\u001b[0m     \u001b[0;32mfor\u001b[0m \u001b[0midx\u001b[0m\u001b[0;34m,\u001b[0m \u001b[0mclust_set\u001b[0m \u001b[0;32min\u001b[0m \u001b[0menumerate\u001b[0m\u001b[0;34m(\u001b[0m\u001b[0mclusters\u001b[0m\u001b[0;34m)\u001b[0m\u001b[0;34m:\u001b[0m\u001b[0;34m\u001b[0m\u001b[0;34m\u001b[0m\u001b[0m\n",
      "\u001b[0;31mTypeError\u001b[0m: list indices must be integers or slices, not generator"
     ]
    }
   ],
   "source": [
    "import random\n",
    "\n",
    "klusters_n = 4\n",
    "centroids = []\n",
    "\n",
    "def get_dist(x1, x2):\n",
    "    return sum(x1**2 - x2**2)**(1/2)\n",
    "\n",
    "for i in range(klusters_n):\n",
    "    idx = np.random.randint(W.shape[0])\n",
    "    centr = np.squeeze(np.asarray(W[idx]))\n",
    "    centroids.append(centr)\n",
    "\n",
    "print(centroids)\n",
    "    \n",
    "for epoch in range(50):\n",
    "    clusters = [set() for _ in range(len(centroids))]\n",
    "    # Loop over the nodes\n",
    "    for i in range(W.shape[0]):\n",
    "        # Get closest distance to centroid i\n",
    "        \n",
    "        min_dist = np.inf\n",
    "        min_centr = ()\n",
    "        node = np.squeeze(np.asarray(W[i]))\n",
    "\n",
    "        for centr in centroids:\n",
    "            dist = get_dist(node, centr)\n",
    "            # Save min centroid\n",
    "            if dist < min_dist:\n",
    "                min_dist = dist\n",
    "                min_centr = centr\n",
    "        \n",
    "        # Add node to correct cluster\n",
    "        idx = (idx for idx, centr in enumerate(centroids) if centr == min_center)\n",
    "        clusters[idx].add(node)\n",
    "\n",
    "    for idx, clust_set in enumerate(clusters):\n",
    "        sum_nodes = 0\n",
    "        for node in clust_set:\n",
    "            sum_nodes += node\n",
    "        mean = sum_nodes / len(clust_set)\n",
    "        centroids[idx] = mean    \n",
    "print(centroids)        "
   ]
  },
  {
   "cell_type": "code",
   "execution_count": 96,
   "metadata": {},
   "outputs": [
    {
     "output_type": "execute_result",
     "data": {
      "text/plain": "array([-0.11509498,  0.09058648, -0.05289917,  0.02223714])"
     },
     "metadata": {},
     "execution_count": 96
    }
   ],
   "source": [
    "np.squeeze(np.asarray(W[1]))"
   ]
  },
  {
   "cell_type": "code",
   "execution_count": 95,
   "metadata": {},
   "outputs": [
    {
     "output_type": "execute_result",
     "data": {
      "text/plain": "matrix([[-0.11509498,  0.09058648, -0.05289917,  0.02223714]])"
     },
     "metadata": {},
     "execution_count": 95
    }
   ],
   "source": [
    "a.flatten()"
   ]
  },
  {
   "cell_type": "code",
   "execution_count": null,
   "metadata": {},
   "outputs": [],
   "source": []
  }
 ],
 "metadata": {
  "kernelspec": {
   "display_name": "Python 3.6.9 64-bit",
   "language": "python",
   "name": "python36964bita19b2ce6fc6f440b9e951b2b50102992"
  },
  "language_info": {
   "codemirror_mode": {
    "name": "ipython",
    "version": 3
   },
   "file_extension": ".py",
   "mimetype": "text/x-python",
   "name": "python",
   "nbconvert_exporter": "python",
   "pygments_lexer": "ipython3",
   "version": "3.6.9-final"
  }
 },
 "nbformat": 4,
 "nbformat_minor": 4
}