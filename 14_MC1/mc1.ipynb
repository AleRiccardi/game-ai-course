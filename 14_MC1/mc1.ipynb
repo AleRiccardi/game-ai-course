{
 "cells": [
  {
   "cell_type": "code",
   "execution_count": 7,
   "metadata": {},
   "outputs": [],
   "source": [
    "# Imports\n",
    "import numpy as np\n",
    "import numpy.random as rnd\n",
    "from numpy import linalg as LA\n",
    "from collections import Counter\n",
    "from numpy.linalg import matrix_power"
   ]
  },
  {
   "cell_type": "markdown",
   "metadata": {},
   "source": [
    "## General"
   ]
  },
  {
   "cell_type": "code",
   "execution_count": 8,
   "metadata": {},
   "outputs": [],
   "source": [
    "# Transition Probabilities\n",
    "# for patroling behaviour\n",
    "P1 = np.matrix([\n",
    "    [0.30, 0.20, 0.50], \n",
    "    [0.50, 0.30, 0.20], \n",
    "    [0.20, 0.50, 0.30]\n",
    "], dtype=np.float32)\n",
    "\n",
    "# Transition Probabilities\n",
    "# for guarding behaviour\n",
    "P2 = np.matrix([\n",
    "    [0.25, 0.10, 0.25], \n",
    "    [0.50, 0.80, 0.50], \n",
    "    [0.25, 0.10, 0.25]\n",
    "], dtype=np.float32)\n",
    "\n",
    "# Possible initial\n",
    "# state distributions\n",
    "PI = np.matrix([\n",
    "    [1, 0, 0], \n",
    "    [0, 1, 0], \n",
    "    [0, 0, 1]\n",
    "], dtype=np.float32)\n",
    "\n",
    "# Time discrite time\n",
    "# steps for MC\n",
    "t = [1, 2, 4, 8, 16]"
   ]
  },
  {
   "cell_type": "markdown",
   "metadata": {},
   "source": [
    "## 14.1 Markov Chains"
   ]
  },
  {
   "cell_type": "markdown",
   "metadata": {},
   "source": [
    "### P2 (guarding)"
   ]
  },
  {
   "cell_type": "code",
   "execution_count": 9,
   "metadata": {},
   "outputs": [],
   "source": [
    "# Compute state vectors\n",
    "# results for P2 matrix\n",
    "PI2_T = [[] for _ in range(3)]\n",
    "\n",
    "for x in range(3):\n",
    "    for i in t:\n",
    "        PI2_T[x].append(np.dot(matrix_power(P2, i), PI[:, x]))"
   ]
  },
  {
   "cell_type": "code",
   "execution_count": 10,
   "metadata": {},
   "outputs": [
    {
     "name": "stdout",
     "output_type": "stream",
     "text": [
      "\n",
      "Starting state:  [[1. 0. 0.]]\n",
      "\n",
      "Resulting state after 1 timesteps:  [[0.25 0.5  0.25]]\n",
      "Resulting state after 2 timesteps:  [[0.175 0.65  0.175]]\n",
      "Resulting state after 4 timesteps:  [[0.14575    0.70849997 0.14575   ]]\n",
      "Resulting state after 8 timesteps:  [[0.14288059 0.7142388  0.14288059]]\n",
      "Resulting state after 16 timesteps:  [[0.14285715 0.7142857  0.14285715]]\n",
      "\n",
      "Starting state:  [[0. 1. 0.]]\n",
      "\n",
      "Resulting state after 1 timesteps:  [[0.1 0.8 0.1]]\n",
      "Resulting state after 2 timesteps:  [[0.13000001 0.74       0.13000001]]\n",
      "Resulting state after 4 timesteps:  [[0.14170001 0.7166     0.14170001]]\n",
      "Resulting state after 8 timesteps:  [[0.14284778 0.71430445 0.14284778]]\n",
      "Resulting state after 16 timesteps:  [[0.14285715 0.7142857  0.14285715]]\n",
      "\n",
      "Starting state:  [[0. 0. 1.]]\n",
      "\n",
      "Resulting state after 1 timesteps:  [[0.25 0.5  0.25]]\n",
      "Resulting state after 2 timesteps:  [[0.175 0.65  0.175]]\n",
      "Resulting state after 4 timesteps:  [[0.14575    0.70849997 0.14575   ]]\n",
      "Resulting state after 8 timesteps:  [[0.14288059 0.7142388  0.14288059]]\n",
      "Resulting state after 16 timesteps:  [[0.14285715 0.7142857  0.14285715]]\n"
     ]
    }
   ],
   "source": [
    "for x in range(3):\n",
    "    print(\"\\nStarting state: \", PI[:, x].T, end='\\n\\n')\n",
    "    for idx, i in enumerate(t):\n",
    "        print(f\"Resulting state after {i} timesteps: \", PI2_T[x][idx].T, end='\\n')"
   ]
  },
  {
   "cell_type": "code",
   "execution_count": 26,
   "metadata": {},
   "outputs": [
    {
     "name": "stdout",
     "output_type": "stream",
     "text": [
      "Process converges:  [[0.14285715 0.7142858  0.14285715]]\n"
     ]
    }
   ],
   "source": [
    "# Eigen decomposition for P2\n",
    "w2, v2 = LA.eig(P2)\n",
    "\n",
    "# State is stationary\n",
    "print(\"Process converges: \", (v2[:, 0] / np.sum(v2[:, 0])).T)"
   ]
  },
  {
   "cell_type": "markdown",
   "metadata": {},
   "source": [
    "### P1 (patroling)"
   ]
  },
  {
   "cell_type": "code",
   "execution_count": 12,
   "metadata": {},
   "outputs": [],
   "source": [
    "# Compute state vectors\n",
    "# results for P1 matrix\n",
    "PI1_T = [[] for _ in range(3)]\n",
    "\n",
    "for x in range(3):\n",
    "    for i in t:\n",
    "        PI1_T[x].append(np.dot(matrix_power(P1, i), PI[:, x]))"
   ]
  },
  {
   "cell_type": "code",
   "execution_count": 13,
   "metadata": {},
   "outputs": [
    {
     "name": "stdout",
     "output_type": "stream",
     "text": [
      "\n",
      "Starting state:  [[1. 0. 0.]]\n",
      "\n",
      "Resulting state after 1 timesteps:  [[0.3 0.5 0.2]]\n",
      "Resulting state after 2 timesteps:  [[0.29 0.34 0.37]]\n",
      "Resulting state after 4 timesteps:  [[0.3357     0.3341     0.33020002]]\n",
      "Resulting state after 8 timesteps:  [[0.33333418 0.3333468  0.33331913]]\n",
      "Resulting state after 16 timesteps:  [[0.33333343 0.33333343 0.33333343]]\n",
      "\n",
      "Starting state:  [[0. 1. 0.]]\n",
      "\n",
      "Resulting state after 1 timesteps:  [[0.2 0.3 0.5]]\n",
      "Resulting state after 2 timesteps:  [[0.37       0.29000002 0.34000003]]\n",
      "Resulting state after 4 timesteps:  [[0.33020005 0.33570004 0.33410004]]\n",
      "Resulting state after 8 timesteps:  [[0.33331916 0.3333342  0.33334684]]\n",
      "Resulting state after 16 timesteps:  [[0.33333346 0.33333346 0.33333346]]\n",
      "\n",
      "Starting state:  [[0. 0. 1.]]\n",
      "\n",
      "Resulting state after 1 timesteps:  [[0.5 0.2 0.3]]\n",
      "Resulting state after 2 timesteps:  [[0.34000003 0.37       0.29000002]]\n",
      "Resulting state after 4 timesteps:  [[0.33410004 0.33020002 0.33570004]]\n",
      "Resulting state after 8 timesteps:  [[0.33334684 0.33331913 0.33333418]]\n",
      "Resulting state after 16 timesteps:  [[0.33333343 0.33333343 0.33333343]]\n"
     ]
    }
   ],
   "source": [
    "for x in range(3):\n",
    "    print(\"\\nStarting state: \", PI[:, x].T, end='\\n\\n')\n",
    "    for idx, i in enumerate(t):\n",
    "        print(f\"Resulting state after {i} timesteps: \", PI1_T[x][idx].T, end='\\n')"
   ]
  },
  {
   "cell_type": "code",
   "execution_count": 27,
   "metadata": {},
   "outputs": [
    {
     "name": "stdout",
     "output_type": "stream",
     "text": [
      "Process converges:  [[0.3333333+0.j 0.3333333+0.j 0.3333333+0.j]]\n"
     ]
    }
   ],
   "source": [
    "# Eigen decomposition for P1\n",
    "w1, v1 = LA.eig(P1)\n",
    "\n",
    "# State is stationary\n",
    "print(\"Process converges: \", (v1[:, 0] / np.sum(v1[:, 0])).T)"
   ]
  },
  {
   "cell_type": "markdown",
   "metadata": {},
   "source": [
    "## 14.2 Markov Process (Sampling)"
   ]
  },
  {
   "cell_type": "code",
   "execution_count": 28,
   "metadata": {},
   "outputs": [],
   "source": [
    "# Generate sequences based\n",
    "# on a given transtion matrix\n",
    "states = ['A', 'B', 'C']\n",
    "indices = range(len(states))\n",
    "state2index = dict(zip(states, indices))\n",
    "index2state = dict(zip(indices, states))\n",
    "\n",
    "def generateStateSequence(X0, P, tau):\n",
    "    sseq = [X0]\n",
    "    iold = state2index[X0]\n",
    "    \n",
    "    for t in range(tau):\n",
    "        inew = rnd.choice(indices, p=np.asarray(P2[:,iold]).flatten())\n",
    "        sseq.append(index2state[inew])\n",
    "        iold = inew\n",
    "        \n",
    "    return sseq"
   ]
  },
  {
   "cell_type": "code",
   "execution_count": 29,
   "metadata": {},
   "outputs": [],
   "source": [
    "# Sequences\n",
    "sequences = []\n",
    "\n",
    "# Counter for analysis\n",
    "counter = Counter()\n",
    "\n",
    "# Generate sequences\n",
    "for _ in range(10000):\n",
    "    sequences.append(generateStateSequence('B', P2, 9))"
   ]
  },
  {
   "cell_type": "code",
   "execution_count": 31,
   "metadata": {},
   "outputs": [],
   "source": [
    "# Observe last sequence for all sequences\n",
    "for sequence in sequences:\n",
    "    counter[sequence[-1]] += 1"
   ]
  },
  {
   "cell_type": "code",
   "execution_count": 18,
   "metadata": {},
   "outputs": [
    {
     "data": {
      "text/plain": [
       "Counter({'B': 7174, 'C': 1438, 'A': 1388})"
      ]
     },
     "execution_count": 18,
     "metadata": {},
     "output_type": "execute_result"
    }
   ],
   "source": [
    "counter"
   ]
  },
  {
   "cell_type": "markdown",
   "metadata": {},
   "source": [
    "**From the counter we notice that the most likely element for the generated sequences is B.**"
   ]
  },
  {
   "cell_type": "code",
   "execution_count": 19,
   "metadata": {},
   "outputs": [],
   "source": [
    "# Compute probability of B\n",
    "probA = counter[\"A\"] / sum(counter.values())\n",
    "probB = counter[\"B\"] / sum(counter.values())\n",
    "probC = counter[\"C\"] / sum(counter.values())"
   ]
  },
  {
   "cell_type": "code",
   "execution_count": 20,
   "metadata": {},
   "outputs": [
    {
     "name": "stdout",
     "output_type": "stream",
     "text": [
      "Probability of A:  0.1388\n",
      "Probability of B:  0.7174\n",
      "Probability of C:  0.1438\n"
     ]
    }
   ],
   "source": [
    "print(\"Probability of A: \", probA)\n",
    "print(\"Probability of B: \", probB)\n",
    "print(\"Probability of C: \", probC)"
   ]
  }
 ],
 "metadata": {
  "kernelspec": {
   "display_name": "Python 3",
   "language": "python",
   "name": "python3"
  },
  "language_info": {
   "codemirror_mode": {
    "name": "ipython",
    "version": 3
   },
   "file_extension": ".py",
   "mimetype": "text/x-python",
   "name": "python",
   "nbconvert_exporter": "python",
   "pygments_lexer": "ipython3",
   "version": "3.7.2"
  }
 },
 "nbformat": 4,
 "nbformat_minor": 4
}
