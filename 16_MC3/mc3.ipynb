{
 "cells": [
  {
   "cell_type": "code",
   "execution_count": 2,
   "metadata": {},
   "outputs": [],
   "source": [
    "# Imports\n",
    "import numpy as np\n",
    "import numpy.random as rnd\n",
    "from numpy import linalg as LA\n",
    "from collections import Counter\n",
    "from numpy.linalg import matrix_power"
   ]
  },
  {
   "cell_type": "markdown",
   "metadata": {},
   "source": [
    "## General"
   ]
  },
  {
   "cell_type": "code",
   "execution_count": 34,
   "metadata": {},
   "outputs": [],
   "source": [
    "# Transition Probabilities\n",
    "# for guarding behaviour\n",
    "P2 = np.matrix([\n",
    "    [0.25, 0.10, 0.25], \n",
    "    [0.50, 0.80, 0.50], \n",
    "    [0.25, 0.10, 0.25]\n",
    "], dtype=np.float32)\n",
    "\n",
    "taus = [5, 10, 100]"
   ]
  },
  {
   "cell_type": "markdown",
   "metadata": {},
   "source": [
    "## Log Likelihood"
   ]
  },
  {
   "cell_type": "code",
   "execution_count": 52,
   "metadata": {},
   "outputs": [],
   "source": [
    "def get_index(state):\n",
    "    return {\n",
    "        'A': 0,\n",
    "        'B': 1,\n",
    "        'C': 2\n",
    "    }[state]\n",
    "\n",
    "def log_likelihood1(P, tau, state1, state2):\n",
    "    # Get indices for state1 and state2\n",
    "    idx1 = get_index(state1)\n",
    "    idx2 = get_index(state2)\n",
    "    \n",
    "    # Compute log likelihood for given tau\n",
    "    return tau * np.log(P[idx1, idx1]) + np.log(1 - P[idx2, idx1])\n",
    "\n",
    "def log_likelihood2(P, tau, state1, state2):\n",
    "    # Get indices for state1 and state2\n",
    "    idx1 = get_index(state1)\n",
    "    idx2 = get_index(state2)\n",
    "    \n",
    "    # Compute log likelihood for given tau\n",
    "    return tau * np.log(P[idx1, idx1]) + np.log(P[idx2, idx1])\n",
    "\n",
    "def log_likelihood3(P, tau, state1, state2):\n",
    "    # Get indices for state1 and state2\n",
    "    idx1 = get_index(state1)\n",
    "    idx2 = get_index(state2)\n",
    "    \n",
    "    return tau * (np.log(P[idx1, idx1]) + np.log(P[idx2, idx2]) + np.log(P[idx1, idx2]) + np.log(P[idx2, idx1]))"
   ]
  },
  {
   "cell_type": "markdown",
   "metadata": {},
   "source": [
    "## 16.1 Markov Chains"
   ]
  },
  {
   "cell_type": "code",
   "execution_count": 53,
   "metadata": {},
   "outputs": [
    {
     "name": "stdout",
     "output_type": "stream",
     "text": [
      "Start in B and ends up in a different room for tau 5:  -2.725155636399747\n",
      "Start in B and ends up in a different room for tau 10:  -3.840873300760747\n",
      "Start in B and ends up in a different room for tau 100:  -23.92379125925875\n"
     ]
    }
   ],
   "source": [
    "# Log likelihood of future event\n",
    "for tau in taus:\n",
    "    print(f\"Start in B and ends up in a different room for tau {tau}: \", log_likelihood1(P2, tau, 'B', 'B'))"
   ]
  },
  {
   "cell_type": "markdown",
   "metadata": {},
   "source": [
    "## 16.2 Markov Chains"
   ]
  },
  {
   "cell_type": "code",
   "execution_count": 54,
   "metadata": {},
   "outputs": [
    {
     "name": "stdout",
     "output_type": "stream",
     "text": [
      "Start in B and ends up in a different room for tau 5:  -3.4183027893304825\n",
      "Start in B and ends up in a different room for tau 10:  -4.5340204536914825\n",
      "Start in B and ends up in a different room for tau 100:  -24.616938412189484\n"
     ]
    }
   ],
   "source": [
    "# Log likelihood B/C\n",
    "for tau in taus:\n",
    "    print(f\"Start in B and ends up in a different room for tau {tau}: \", log_likelihood2(P2, tau, 'B', 'C'))"
   ]
  },
  {
   "cell_type": "markdown",
   "metadata": {},
   "source": [
    "## 16. Markov Chains"
   ]
  },
  {
   "cell_type": "code",
   "execution_count": 55,
   "metadata": {},
   "outputs": [
    {
     "name": "stdout",
     "output_type": "stream",
     "text": [
      "Start in B and not enter A for next tau 5 steps:  -23.025851249694824\n",
      "Start in B and not enter A for next tau 10 steps:  -46.05170249938965\n",
      "Start in B and not enter A for next tau 100 steps:  -460.5170249938965\n"
     ]
    }
   ],
   "source": [
    "for tau in taus:\n",
    "    print(f\"Start in B and not enter A for next tau {tau} steps: \", log_likelihood3(P2, tau, 'B', 'C'))"
   ]
  },
  {
   "cell_type": "code",
   "execution_count": null,
   "metadata": {},
   "outputs": [],
   "source": []
  }
 ],
 "metadata": {
  "kernelspec": {
   "display_name": "Python 3",
   "language": "python",
   "name": "python3"
  },
  "language_info": {
   "codemirror_mode": {
    "name": "ipython",
    "version": 3
   },
   "file_extension": ".py",
   "mimetype": "text/x-python",
   "name": "python",
   "nbconvert_exporter": "python",
   "pygments_lexer": "ipython3",
   "version": "3.7.2"
  }
 },
 "nbformat": 4,
 "nbformat_minor": 4
}
