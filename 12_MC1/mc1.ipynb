{
 "cells": [
  {
   "cell_type": "code",
   "execution_count": 125,
   "metadata": {},
   "outputs": [],
   "source": [
    "# Imports\n",
    "import numpy as np\n",
    "import numpy.random as rnd\n",
    "from numpy import linalg as LA\n",
    "from collections import Counter\n",
    "from numpy.linalg import matrix_power"
   ]
  },
  {
   "cell_type": "markdown",
   "metadata": {},
   "source": [
    "## General"
   ]
  },
  {
   "cell_type": "code",
   "execution_count": 74,
   "metadata": {},
   "outputs": [],
   "source": [
    "# Transition Probabilities\n",
    "# for patroling behaviour\n",
    "P1 = np.matrix([\n",
    "    [0.30, 0.20, 0.50], \n",
    "    [0.50, 0.30, 0.20], \n",
    "    [0.20, 0.50, 0.30]\n",
    "], dtype=np.float32)\n",
    "\n",
    "# Transition Probabilities\n",
    "# for guarding behaviour\n",
    "P2 = np.matrix([\n",
    "    [0.25, 0.10, 0.25], \n",
    "    [0.50, 0.80, 0.50], \n",
    "    [0.25, 0.10, 0.25]\n",
    "], dtype=np.float32)\n",
    "\n",
    "# Possible initial\n",
    "# state distributions\n",
    "PI = np.matrix([\n",
    "    [1, 0, 0], \n",
    "    [0, 1, 0], \n",
    "    [0, 0, 1]\n",
    "], dtype=np.float32)\n",
    "\n",
    "# Time discrite time\n",
    "# steps for MC\n",
    "t = [1, 2, 4, 8, 16]"
   ]
  },
  {
   "cell_type": "markdown",
   "metadata": {},
   "source": [
    "## 14.1 Markov Chains"
   ]
  },
  {
   "cell_type": "markdown",
   "metadata": {},
   "source": [
    "### P2 (guarding)"
   ]
  },
  {
   "cell_type": "code",
   "execution_count": 55,
   "metadata": {},
   "outputs": [],
   "source": [
    "# Compute state vectors\n",
    "# results for P2 matrix\n",
    "PI2_T = [[] for _ in range(3)]\n",
    "\n",
    "for x in range(3):\n",
    "    for i in t:\n",
    "        PI2_T[x].append(np.dot(matrix_power(P2, i), PI[:, x]))"
   ]
  },
  {
   "cell_type": "code",
   "execution_count": 70,
   "metadata": {},
   "outputs": [],
   "source": [
    "for x in range(3):\n",
    "    print(\"Starting state: \\n\", PI[:, x], end='\\n\\n')\n",
    "    for idx, i in enumerate(t):\n",
    "        print(f\"Resulting state after {i} timesteps: \\n\", PI2_T[x][idx], end='\\n\\n')"
   ]
  },
  {
   "cell_type": "code",
   "execution_count": 71,
   "metadata": {},
   "outputs": [],
   "source": [
    "# Eigen decomposition for P2\n",
    "w2, v2 = LA.eig(P2)"
   ]
  },
  {
   "cell_type": "markdown",
   "metadata": {},
   "source": [
    "### P1 (patroling)"
   ]
  },
  {
   "cell_type": "code",
   "execution_count": 57,
   "metadata": {},
   "outputs": [],
   "source": [
    "# Compute state vectors\n",
    "# results for P1 matrix\n",
    "PI1_T = [[] for _ in range(3)]\n",
    "\n",
    "for x in range(3):\n",
    "    for i in t:\n",
    "        PI1_T[x].append(np.dot(matrix_power(P1, i), PI[:, x]))"
   ]
  },
  {
   "cell_type": "code",
   "execution_count": 72,
   "metadata": {},
   "outputs": [],
   "source": [
    "for x in range(3):\n",
    "    print(\"Starting state: \\n\", PI[:, x], end='\\n\\n')\n",
    "    for idx, i in enumerate(t):\n",
    "        print(f\"Resulting state after {i} timesteps: \\n\", PI1_T[x][idx], end='\\n\\n')"
   ]
  },
  {
   "cell_type": "code",
   "execution_count": 73,
   "metadata": {},
   "outputs": [],
   "source": [
    "# Eigen decomposition for P1\n",
    "w1, v1 = LA.eig(P1)"
   ]
  },
  {
   "cell_type": "markdown",
   "metadata": {},
   "source": [
    "## 14.2 Markov Process (Sampling)"
   ]
  },
  {
   "cell_type": "code",
   "execution_count": 121,
   "metadata": {},
   "outputs": [],
   "source": [
    "# Generate sequences based\n",
    "# on a given transtion matrix\n",
    "states = ['A', 'B', 'C']\n",
    "indices = range(len(states))\n",
    "state2index = dict(zip(states, indices))\n",
    "index2state = dict(zip(indices, states))\n",
    "\n",
    "def generateStateSequence(X0, P, tau):\n",
    "    sseq = [X0]\n",
    "    iold = state2index[X0]\n",
    "    \n",
    "    for t in range(tau):\n",
    "        inew = rnd.choice(indices, p=np.asarray(P2[:,iold]).flatten())\n",
    "        sseq.append(index2state[inew])\n",
    "        iold = inew\n",
    "        \n",
    "    return sseq"
   ]
  },
  {
   "cell_type": "code",
   "execution_count": 135,
   "metadata": {},
   "outputs": [],
   "source": [
    "# Sequences\n",
    "sequences = []\n",
    "\n",
    "# Counter for analysis\n",
    "counter = Counter()\n",
    "\n",
    "# Generate sequences\n",
    "for _ in range(10000):\n",
    "    sequences.append(generateStateSequence('B', P2, 9))"
   ]
  },
  {
   "cell_type": "code",
   "execution_count": 136,
   "metadata": {},
   "outputs": [],
   "source": [
    "# Observe last sequence for all sequences\n",
    "for sequence in sequences:\n",
    "    counter[sequence[-1]] += 1\n",
    "#     print(sequence[-1], end='\\n\\n')"
   ]
  },
  {
   "cell_type": "code",
   "execution_count": 137,
   "metadata": {},
   "outputs": [
    {
     "data": {
      "text/plain": [
       "Counter({'B': 7063, 'A': 1460, 'C': 1477})"
      ]
     },
     "execution_count": 137,
     "metadata": {},
     "output_type": "execute_result"
    }
   ],
   "source": [
    "counter"
   ]
  },
  {
   "cell_type": "markdown",
   "metadata": {},
   "source": [
    "**From the counter we notice that the most likely element for the generated sequences is B.**"
   ]
  },
  {
   "cell_type": "code",
   "execution_count": 138,
   "metadata": {},
   "outputs": [],
   "source": [
    "# Compute probability of B\n",
    "probB = counter[\"B\"] / 10000"
   ]
  },
  {
   "cell_type": "code",
   "execution_count": 139,
   "metadata": {},
   "outputs": [
    {
     "data": {
      "text/plain": [
       "0.7063"
      ]
     },
     "execution_count": 139,
     "metadata": {},
     "output_type": "execute_result"
    }
   ],
   "source": [
    "probB"
   ]
  },
  {
   "cell_type": "code",
   "execution_count": null,
   "metadata": {},
   "outputs": [],
   "source": []
  }
 ],
 "metadata": {
  "kernelspec": {
   "display_name": "Python 3",
   "language": "python",
   "name": "python3"
  },
  "language_info": {
   "codemirror_mode": {
    "name": "ipython",
    "version": 3
   },
   "file_extension": ".py",
   "mimetype": "text/x-python",
   "name": "python",
   "nbconvert_exporter": "python",
   "pygments_lexer": "ipython3",
   "version": "3.7.2"
  }
 },
 "nbformat": 4,
 "nbformat_minor": 4
}
