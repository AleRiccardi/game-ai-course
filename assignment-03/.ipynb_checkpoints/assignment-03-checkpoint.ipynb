{
 "cells": [
  {
   "cell_type": "code",
   "execution_count": 79,
   "metadata": {},
   "outputs": [],
   "source": [
    "import numpy as np\n",
    "\n",
    "flat_dict_tree = {(0,None): {\n",
    "    (1,None): {(6,15): {},(7,20): {},(8,1): {},(9,3): {}},\n",
    "    (2,None): {(10,3): {},(11,4): {}},\n",
    "    (3,None): {(15,15): {},(10,20): {}},\n",
    "    (4,None): {(14,16): {},(15,4): {},(16,12): {}},\n",
    "    (5,None): {(17,15): {},(18,12): {},(19,8): {}}\n",
    "}}\n",
    "\n",
    "\n",
    "class Node:\n",
    "    code = None\n",
    "    value = None\n",
    "    children = []\n",
    "    mmv = (None, None)\n",
    "    \n",
    "    def __init__(self, code, value):\n",
    "        self.code = code\n",
    "        self.value = value\n",
    "        self.children = []\n",
    "        self.mmv = (value, None)\n",
    "\n",
    "    def add_children(self, node):\n",
    "        self.children.append(node)\n",
    "        \n",
    "    def is_leaf(self):\n",
    "        return len(self.children) == 0\n",
    "    \n",
    "    def compute_children_max(self):\n",
    "        max_tuple = (-np.inf, None)\n",
    "        for child_node in self.children:\n",
    "            if (child_node.mmv[0] > max_tuple[0]):\n",
    "                max_tuple = (child_node.mmv[0], child_node)\n",
    "        self.mmv = max_tuple\n",
    "        return self.mmv\n",
    "    \n",
    "    def compute_children_min(self):\n",
    "        if not self.is_leaf():\n",
    "            min_tuple = (np.inf, None)\n",
    "            for child_node in self.children:\n",
    "                if (child_node.mmv[0] < min_tuple[0]):\n",
    "                    min_tuple = (child_node.mmv[0], child_node)\n",
    "            self.mmv = min_tuple\n",
    "        return self.mmv\n"
   ]
  },
  {
   "cell_type": "code",
   "execution_count": 80,
   "metadata": {},
   "outputs": [],
   "source": [
    "roles = {\n",
    "    1: 'Max',\n",
    "    -1: 'Min'\n",
    "}\n",
    "\n",
    "def build_tree(dict_tree, player=1):\n",
    "    if (len(dict_tree.keys()) == 1):\n",
    "        tuple_node = list(dict_tree.keys())[0]\n",
    "        code_node, value_node = tuple_node\n",
    "        curr_node = Node(code_node, value_node)\n",
    "        \n",
    "        for child_tuple, child_children in dict_tree[tuple_node].items():\n",
    "            child_tree = {child_tuple: child_children}\n",
    "            node_child = build_tree(child_tree, player*-1)\n",
    "            \n",
    "            if not node_child == None:\n",
    "                curr_node.add_children(node_child)\n",
    "        \n",
    "        if roles[player] == 'Max':\n",
    "            curr_node.compute_children_max()\n",
    "        else:\n",
    "            curr_node.compute_children_min()\n",
    "        \n",
    "        return curr_node\n",
    "    \n",
    "    elif (len(dict_tree.keys()) == 0):\n",
    "        return None\n",
    "    else:\n",
    "        raise Exception(\"Wrong tree format: {}\".format(dict_tree)) \n",
    "    "
   ]
  },
  {
   "cell_type": "code",
   "execution_count": 81,
   "metadata": {},
   "outputs": [],
   "source": [
    "def compute_minmax(tree, player='Max'):\n",
    "    pass\n",
    "    "
   ]
  },
  {
   "cell_type": "code",
   "execution_count": 82,
   "metadata": {},
   "outputs": [],
   "source": [
    "tree = build_tree(flat_dict_tree)"
   ]
  },
  {
   "cell_type": "code",
   "execution_count": 83,
   "metadata": {},
   "outputs": [
    {
     "data": {
      "text/plain": [
       "(-inf, None)"
      ]
     },
     "execution_count": 83,
     "metadata": {},
     "output_type": "execute_result"
    }
   ],
   "source": [
    "tree.mmv"
   ]
  },
  {
   "cell_type": "code",
   "execution_count": null,
   "metadata": {},
   "outputs": [],
   "source": []
  }
 ],
 "metadata": {
  "kernelspec": {
   "display_name": "Python 3",
   "language": "python",
   "name": "python3"
  },
  "language_info": {
   "codemirror_mode": {
    "name": "ipython",
    "version": 3
   },
   "file_extension": ".py",
   "mimetype": "text/x-python",
   "name": "python",
   "nbconvert_exporter": "python",
   "pygments_lexer": "ipython3",
   "version": "3.6.9"
  }
 },
 "nbformat": 4,
 "nbformat_minor": 4
}
